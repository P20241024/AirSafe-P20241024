{
  "cells": [
    {
      "cell_type": "markdown",
      "metadata": {
        "id": "view-in-github",
        "colab_type": "text"
      },
      "source": [
        "<a href=\"https://colab.research.google.com/github/P20241024/app/blob/main/P20241024_Modelo_Prediccion_por_hora_final.ipynb\" target=\"_parent\"><img src=\"https://colab.research.google.com/assets/colab-badge.svg\" alt=\"Open In Colab\"/></a>"
      ]
    },
    {
      "cell_type": "code",
      "execution_count": null,
      "metadata": {
        "id": "qKWChnb2mbjD"
      },
      "outputs": [],
      "source": [
        "import pandas as pd\n",
        "import numpy as np\n",
        "from sklearn.ensemble import RandomForestRegressor, GradientBoostingRegressor, AdaBoostRegressor\n",
        "from sklearn.linear_model import LinearRegression, Lasso, Ridge, ElasticNet\n",
        "from sklearn.svm import SVR\n",
        "from sklearn.ensemble import StackingRegressor\n",
        "import matplotlib.pyplot as plt\n",
        "from google.colab import drive\n",
        "from sklearn.model_selection import GridSearchCV, KFold, train_test_split, RandomizedSearchCV, RepeatedKFold\n",
        "from sklearn.preprocessing import StandardScaler\n",
        "from xgboost import XGBRegressor\n",
        "from scipy.stats import randint, uniform\n",
        "from sklearn.metrics import mean_squared_error, mean_absolute_error, mean_absolute_percentage_error\n",
        "import joblib"
      ]
    },
    {
      "cell_type": "markdown",
      "metadata": {
        "id": "c9BxcFEw6hQD"
      },
      "source": [
        "#Entrenamiento y creacion del modelo stacking:"
      ]
    },
    {
      "cell_type": "code",
      "execution_count": null,
      "metadata": {
        "colab": {
          "base_uri": "https://localhost:8080/"
        },
        "id": "xGzJ7JFlm-Qi",
        "outputId": "be34b028-171f-438c-de23-c09ff3b65048"
      },
      "outputs": [
        {
          "output_type": "stream",
          "name": "stdout",
          "text": [
            "Mounted at /content/drive\n"
          ]
        }
      ],
      "source": [
        " drive.mount('/content/drive')"
      ]
    },
    {
      "cell_type": "code",
      "execution_count": null,
      "metadata": {
        "id": "R8IYKNot0xtB"
      },
      "outputs": [],
      "source": []
    },
    {
      "cell_type": "code",
      "execution_count": null,
      "metadata": {
        "id": "NrD7Zd8jnEqJ"
      },
      "outputs": [],
      "source": [
        "# Cargar el dataset\n",
        "df = pd.read_excel(\"/content/drive/MyDrive/Data/data_1k_tesis_CO2.xlsx\")"
      ]
    },
    {
      "cell_type": "code",
      "execution_count": null,
      "metadata": {
        "id": "ELXLVl2Q070R",
        "colab": {
          "base_uri": "https://localhost:8080/",
          "height": 423
        },
        "outputId": "82721b59-e16f-4634-fca9-e518d7d4c153"
      },
      "outputs": [
        {
          "output_type": "execute_result",
          "data": {
            "text/plain": [
              "          ID   Timestamp  CO2 concentration in ppm  Temperature  Humidity  \\\n",
              "0    4678229  1533243314                      2944         30.5      61.0   \n",
              "1    6642641  1533365453                      2900         27.3       0.0   \n",
              "2    8267680  1533199750                       347       -100.0      63.8   \n",
              "3    8267681  1533199751                       287         27.6      63.8   \n",
              "4    8267682  1533199752                       296         27.6      63.8   \n",
              "..       ...         ...                       ...          ...       ...   \n",
              "494  8268172  1533200260                       219         28.2      64.9   \n",
              "495  8268173  1533200260                       219         28.2      64.9   \n",
              "496  8268174  1533200172                       239         28.7      65.1   \n",
              "497  8268175  1533200262                       234         28.2      64.9   \n",
              "498  8268176  1533200262                       234         28.2      64.9   \n",
              "\n",
              "     Light intensity  NODE ID  \n",
              "0                 89        9  \n",
              "1                667       73  \n",
              "2                 24        0  \n",
              "3                 25        0  \n",
              "4                 24        0  \n",
              "..               ...      ...  \n",
              "494               17        1  \n",
              "495               17        1  \n",
              "496               27        0  \n",
              "497               18        1  \n",
              "498               18        1  \n",
              "\n",
              "[499 rows x 7 columns]"
            ],
            "text/html": [
              "\n",
              "  <div id=\"df-82fdf6cc-252f-466d-8cb0-914cca34ad7f\" class=\"colab-df-container\">\n",
              "    <div>\n",
              "<style scoped>\n",
              "    .dataframe tbody tr th:only-of-type {\n",
              "        vertical-align: middle;\n",
              "    }\n",
              "\n",
              "    .dataframe tbody tr th {\n",
              "        vertical-align: top;\n",
              "    }\n",
              "\n",
              "    .dataframe thead th {\n",
              "        text-align: right;\n",
              "    }\n",
              "</style>\n",
              "<table border=\"1\" class=\"dataframe\">\n",
              "  <thead>\n",
              "    <tr style=\"text-align: right;\">\n",
              "      <th></th>\n",
              "      <th>ID</th>\n",
              "      <th>Timestamp</th>\n",
              "      <th>CO2 concentration in ppm</th>\n",
              "      <th>Temperature</th>\n",
              "      <th>Humidity</th>\n",
              "      <th>Light intensity</th>\n",
              "      <th>NODE ID</th>\n",
              "    </tr>\n",
              "  </thead>\n",
              "  <tbody>\n",
              "    <tr>\n",
              "      <th>0</th>\n",
              "      <td>4678229</td>\n",
              "      <td>1533243314</td>\n",
              "      <td>2944</td>\n",
              "      <td>30.5</td>\n",
              "      <td>61.0</td>\n",
              "      <td>89</td>\n",
              "      <td>9</td>\n",
              "    </tr>\n",
              "    <tr>\n",
              "      <th>1</th>\n",
              "      <td>6642641</td>\n",
              "      <td>1533365453</td>\n",
              "      <td>2900</td>\n",
              "      <td>27.3</td>\n",
              "      <td>0.0</td>\n",
              "      <td>667</td>\n",
              "      <td>73</td>\n",
              "    </tr>\n",
              "    <tr>\n",
              "      <th>2</th>\n",
              "      <td>8267680</td>\n",
              "      <td>1533199750</td>\n",
              "      <td>347</td>\n",
              "      <td>-100.0</td>\n",
              "      <td>63.8</td>\n",
              "      <td>24</td>\n",
              "      <td>0</td>\n",
              "    </tr>\n",
              "    <tr>\n",
              "      <th>3</th>\n",
              "      <td>8267681</td>\n",
              "      <td>1533199751</td>\n",
              "      <td>287</td>\n",
              "      <td>27.6</td>\n",
              "      <td>63.8</td>\n",
              "      <td>25</td>\n",
              "      <td>0</td>\n",
              "    </tr>\n",
              "    <tr>\n",
              "      <th>4</th>\n",
              "      <td>8267682</td>\n",
              "      <td>1533199752</td>\n",
              "      <td>296</td>\n",
              "      <td>27.6</td>\n",
              "      <td>63.8</td>\n",
              "      <td>24</td>\n",
              "      <td>0</td>\n",
              "    </tr>\n",
              "    <tr>\n",
              "      <th>...</th>\n",
              "      <td>...</td>\n",
              "      <td>...</td>\n",
              "      <td>...</td>\n",
              "      <td>...</td>\n",
              "      <td>...</td>\n",
              "      <td>...</td>\n",
              "      <td>...</td>\n",
              "    </tr>\n",
              "    <tr>\n",
              "      <th>494</th>\n",
              "      <td>8268172</td>\n",
              "      <td>1533200260</td>\n",
              "      <td>219</td>\n",
              "      <td>28.2</td>\n",
              "      <td>64.9</td>\n",
              "      <td>17</td>\n",
              "      <td>1</td>\n",
              "    </tr>\n",
              "    <tr>\n",
              "      <th>495</th>\n",
              "      <td>8268173</td>\n",
              "      <td>1533200260</td>\n",
              "      <td>219</td>\n",
              "      <td>28.2</td>\n",
              "      <td>64.9</td>\n",
              "      <td>17</td>\n",
              "      <td>1</td>\n",
              "    </tr>\n",
              "    <tr>\n",
              "      <th>496</th>\n",
              "      <td>8268174</td>\n",
              "      <td>1533200172</td>\n",
              "      <td>239</td>\n",
              "      <td>28.7</td>\n",
              "      <td>65.1</td>\n",
              "      <td>27</td>\n",
              "      <td>0</td>\n",
              "    </tr>\n",
              "    <tr>\n",
              "      <th>497</th>\n",
              "      <td>8268175</td>\n",
              "      <td>1533200262</td>\n",
              "      <td>234</td>\n",
              "      <td>28.2</td>\n",
              "      <td>64.9</td>\n",
              "      <td>18</td>\n",
              "      <td>1</td>\n",
              "    </tr>\n",
              "    <tr>\n",
              "      <th>498</th>\n",
              "      <td>8268176</td>\n",
              "      <td>1533200262</td>\n",
              "      <td>234</td>\n",
              "      <td>28.2</td>\n",
              "      <td>64.9</td>\n",
              "      <td>18</td>\n",
              "      <td>1</td>\n",
              "    </tr>\n",
              "  </tbody>\n",
              "</table>\n",
              "<p>499 rows × 7 columns</p>\n",
              "</div>\n",
              "    <div class=\"colab-df-buttons\">\n",
              "\n",
              "  <div class=\"colab-df-container\">\n",
              "    <button class=\"colab-df-convert\" onclick=\"convertToInteractive('df-82fdf6cc-252f-466d-8cb0-914cca34ad7f')\"\n",
              "            title=\"Convert this dataframe to an interactive table.\"\n",
              "            style=\"display:none;\">\n",
              "\n",
              "  <svg xmlns=\"http://www.w3.org/2000/svg\" height=\"24px\" viewBox=\"0 -960 960 960\">\n",
              "    <path d=\"M120-120v-720h720v720H120Zm60-500h600v-160H180v160Zm220 220h160v-160H400v160Zm0 220h160v-160H400v160ZM180-400h160v-160H180v160Zm440 0h160v-160H620v160ZM180-180h160v-160H180v160Zm440 0h160v-160H620v160Z\"/>\n",
              "  </svg>\n",
              "    </button>\n",
              "\n",
              "  <style>\n",
              "    .colab-df-container {\n",
              "      display:flex;\n",
              "      gap: 12px;\n",
              "    }\n",
              "\n",
              "    .colab-df-convert {\n",
              "      background-color: #E8F0FE;\n",
              "      border: none;\n",
              "      border-radius: 50%;\n",
              "      cursor: pointer;\n",
              "      display: none;\n",
              "      fill: #1967D2;\n",
              "      height: 32px;\n",
              "      padding: 0 0 0 0;\n",
              "      width: 32px;\n",
              "    }\n",
              "\n",
              "    .colab-df-convert:hover {\n",
              "      background-color: #E2EBFA;\n",
              "      box-shadow: 0px 1px 2px rgba(60, 64, 67, 0.3), 0px 1px 3px 1px rgba(60, 64, 67, 0.15);\n",
              "      fill: #174EA6;\n",
              "    }\n",
              "\n",
              "    .colab-df-buttons div {\n",
              "      margin-bottom: 4px;\n",
              "    }\n",
              "\n",
              "    [theme=dark] .colab-df-convert {\n",
              "      background-color: #3B4455;\n",
              "      fill: #D2E3FC;\n",
              "    }\n",
              "\n",
              "    [theme=dark] .colab-df-convert:hover {\n",
              "      background-color: #434B5C;\n",
              "      box-shadow: 0px 1px 3px 1px rgba(0, 0, 0, 0.15);\n",
              "      filter: drop-shadow(0px 1px 2px rgba(0, 0, 0, 0.3));\n",
              "      fill: #FFFFFF;\n",
              "    }\n",
              "  </style>\n",
              "\n",
              "    <script>\n",
              "      const buttonEl =\n",
              "        document.querySelector('#df-82fdf6cc-252f-466d-8cb0-914cca34ad7f button.colab-df-convert');\n",
              "      buttonEl.style.display =\n",
              "        google.colab.kernel.accessAllowed ? 'block' : 'none';\n",
              "\n",
              "      async function convertToInteractive(key) {\n",
              "        const element = document.querySelector('#df-82fdf6cc-252f-466d-8cb0-914cca34ad7f');\n",
              "        const dataTable =\n",
              "          await google.colab.kernel.invokeFunction('convertToInteractive',\n",
              "                                                    [key], {});\n",
              "        if (!dataTable) return;\n",
              "\n",
              "        const docLinkHtml = 'Like what you see? Visit the ' +\n",
              "          '<a target=\"_blank\" href=https://colab.research.google.com/notebooks/data_table.ipynb>data table notebook</a>'\n",
              "          + ' to learn more about interactive tables.';\n",
              "        element.innerHTML = '';\n",
              "        dataTable['output_type'] = 'display_data';\n",
              "        await google.colab.output.renderOutput(dataTable, element);\n",
              "        const docLink = document.createElement('div');\n",
              "        docLink.innerHTML = docLinkHtml;\n",
              "        element.appendChild(docLink);\n",
              "      }\n",
              "    </script>\n",
              "  </div>\n",
              "\n",
              "\n",
              "<div id=\"df-0307c1ba-bbe0-4756-94a7-43634b6362f9\">\n",
              "  <button class=\"colab-df-quickchart\" onclick=\"quickchart('df-0307c1ba-bbe0-4756-94a7-43634b6362f9')\"\n",
              "            title=\"Suggest charts\"\n",
              "            style=\"display:none;\">\n",
              "\n",
              "<svg xmlns=\"http://www.w3.org/2000/svg\" height=\"24px\"viewBox=\"0 0 24 24\"\n",
              "     width=\"24px\">\n",
              "    <g>\n",
              "        <path d=\"M19 3H5c-1.1 0-2 .9-2 2v14c0 1.1.9 2 2 2h14c1.1 0 2-.9 2-2V5c0-1.1-.9-2-2-2zM9 17H7v-7h2v7zm4 0h-2V7h2v10zm4 0h-2v-4h2v4z\"/>\n",
              "    </g>\n",
              "</svg>\n",
              "  </button>\n",
              "\n",
              "<style>\n",
              "  .colab-df-quickchart {\n",
              "      --bg-color: #E8F0FE;\n",
              "      --fill-color: #1967D2;\n",
              "      --hover-bg-color: #E2EBFA;\n",
              "      --hover-fill-color: #174EA6;\n",
              "      --disabled-fill-color: #AAA;\n",
              "      --disabled-bg-color: #DDD;\n",
              "  }\n",
              "\n",
              "  [theme=dark] .colab-df-quickchart {\n",
              "      --bg-color: #3B4455;\n",
              "      --fill-color: #D2E3FC;\n",
              "      --hover-bg-color: #434B5C;\n",
              "      --hover-fill-color: #FFFFFF;\n",
              "      --disabled-bg-color: #3B4455;\n",
              "      --disabled-fill-color: #666;\n",
              "  }\n",
              "\n",
              "  .colab-df-quickchart {\n",
              "    background-color: var(--bg-color);\n",
              "    border: none;\n",
              "    border-radius: 50%;\n",
              "    cursor: pointer;\n",
              "    display: none;\n",
              "    fill: var(--fill-color);\n",
              "    height: 32px;\n",
              "    padding: 0;\n",
              "    width: 32px;\n",
              "  }\n",
              "\n",
              "  .colab-df-quickchart:hover {\n",
              "    background-color: var(--hover-bg-color);\n",
              "    box-shadow: 0 1px 2px rgba(60, 64, 67, 0.3), 0 1px 3px 1px rgba(60, 64, 67, 0.15);\n",
              "    fill: var(--button-hover-fill-color);\n",
              "  }\n",
              "\n",
              "  .colab-df-quickchart-complete:disabled,\n",
              "  .colab-df-quickchart-complete:disabled:hover {\n",
              "    background-color: var(--disabled-bg-color);\n",
              "    fill: var(--disabled-fill-color);\n",
              "    box-shadow: none;\n",
              "  }\n",
              "\n",
              "  .colab-df-spinner {\n",
              "    border: 2px solid var(--fill-color);\n",
              "    border-color: transparent;\n",
              "    border-bottom-color: var(--fill-color);\n",
              "    animation:\n",
              "      spin 1s steps(1) infinite;\n",
              "  }\n",
              "\n",
              "  @keyframes spin {\n",
              "    0% {\n",
              "      border-color: transparent;\n",
              "      border-bottom-color: var(--fill-color);\n",
              "      border-left-color: var(--fill-color);\n",
              "    }\n",
              "    20% {\n",
              "      border-color: transparent;\n",
              "      border-left-color: var(--fill-color);\n",
              "      border-top-color: var(--fill-color);\n",
              "    }\n",
              "    30% {\n",
              "      border-color: transparent;\n",
              "      border-left-color: var(--fill-color);\n",
              "      border-top-color: var(--fill-color);\n",
              "      border-right-color: var(--fill-color);\n",
              "    }\n",
              "    40% {\n",
              "      border-color: transparent;\n",
              "      border-right-color: var(--fill-color);\n",
              "      border-top-color: var(--fill-color);\n",
              "    }\n",
              "    60% {\n",
              "      border-color: transparent;\n",
              "      border-right-color: var(--fill-color);\n",
              "    }\n",
              "    80% {\n",
              "      border-color: transparent;\n",
              "      border-right-color: var(--fill-color);\n",
              "      border-bottom-color: var(--fill-color);\n",
              "    }\n",
              "    90% {\n",
              "      border-color: transparent;\n",
              "      border-bottom-color: var(--fill-color);\n",
              "    }\n",
              "  }\n",
              "</style>\n",
              "\n",
              "  <script>\n",
              "    async function quickchart(key) {\n",
              "      const quickchartButtonEl =\n",
              "        document.querySelector('#' + key + ' button');\n",
              "      quickchartButtonEl.disabled = true;  // To prevent multiple clicks.\n",
              "      quickchartButtonEl.classList.add('colab-df-spinner');\n",
              "      try {\n",
              "        const charts = await google.colab.kernel.invokeFunction(\n",
              "            'suggestCharts', [key], {});\n",
              "      } catch (error) {\n",
              "        console.error('Error during call to suggestCharts:', error);\n",
              "      }\n",
              "      quickchartButtonEl.classList.remove('colab-df-spinner');\n",
              "      quickchartButtonEl.classList.add('colab-df-quickchart-complete');\n",
              "    }\n",
              "    (() => {\n",
              "      let quickchartButtonEl =\n",
              "        document.querySelector('#df-0307c1ba-bbe0-4756-94a7-43634b6362f9 button');\n",
              "      quickchartButtonEl.style.display =\n",
              "        google.colab.kernel.accessAllowed ? 'block' : 'none';\n",
              "    })();\n",
              "  </script>\n",
              "</div>\n",
              "\n",
              "    </div>\n",
              "  </div>\n"
            ],
            "application/vnd.google.colaboratory.intrinsic+json": {
              "type": "dataframe",
              "variable_name": "df",
              "summary": "{\n  \"name\": \"df\",\n  \"rows\": 499,\n  \"fields\": [\n    {\n      \"column\": \"ID\",\n      \"properties\": {\n        \"dtype\": \"number\",\n        \"std\": 176267,\n        \"min\": 4678229,\n        \"max\": 8268176,\n        \"num_unique_values\": 499,\n        \"samples\": [\n          8268138,\n          8267751,\n          8267909\n        ],\n        \"semantic_type\": \"\",\n        \"description\": \"\"\n      }\n    },\n    {\n      \"column\": \"Timestamp\",\n      \"properties\": {\n        \"dtype\": \"number\",\n        \"std\": 7653,\n        \"min\": 1533199750,\n        \"max\": 1533365453,\n        \"num_unique_values\": 432,\n        \"samples\": [\n          1533200168,\n          1533199826,\n          1533199935\n        ],\n        \"semantic_type\": \"\",\n        \"description\": \"\"\n      }\n    },\n    {\n      \"column\": \"CO2 concentration in ppm\",\n      \"properties\": {\n        \"dtype\": \"number\",\n        \"std\": 173,\n        \"min\": 0,\n        \"max\": 2944,\n        \"num_unique_values\": 99,\n        \"samples\": [\n          294,\n          312,\n          199\n        ],\n        \"semantic_type\": \"\",\n        \"description\": \"\"\n      }\n    },\n    {\n      \"column\": \"Temperature\",\n      \"properties\": {\n        \"dtype\": \"number\",\n        \"std\": 5.745599704159253,\n        \"min\": -100.0,\n        \"max\": 30.5,\n        \"num_unique_values\": 15,\n        \"samples\": [\n          28.2,\n          28.4,\n          30.5\n        ],\n        \"semantic_type\": \"\",\n        \"description\": \"\"\n      }\n    },\n    {\n      \"column\": \"Humidity\",\n      \"properties\": {\n        \"dtype\": \"number\",\n        \"std\": 5.7839550258765,\n        \"min\": 0.0,\n        \"max\": 65.1,\n        \"num_unique_values\": 16,\n        \"samples\": [\n          61.0,\n          0.0,\n          64.1\n        ],\n        \"semantic_type\": \"\",\n        \"description\": \"\"\n      }\n    },\n    {\n      \"column\": \"Light intensity\",\n      \"properties\": {\n        \"dtype\": \"number\",\n        \"std\": 36,\n        \"min\": 10,\n        \"max\": 667,\n        \"num_unique_values\": 28,\n        \"samples\": [\n          33,\n          20,\n          38\n        ],\n        \"semantic_type\": \"\",\n        \"description\": \"\"\n      }\n    },\n    {\n      \"column\": \"NODE ID\",\n      \"properties\": {\n        \"dtype\": \"number\",\n        \"std\": 3,\n        \"min\": 0,\n        \"max\": 73,\n        \"num_unique_values\": 4,\n        \"samples\": [\n          73,\n          1,\n          9\n        ],\n        \"semantic_type\": \"\",\n        \"description\": \"\"\n      }\n    }\n  ]\n}"
            }
          },
          "metadata": {},
          "execution_count": 4
        }
      ],
      "source": [
        "df.head(1000)"
      ]
    },
    {
      "cell_type": "code",
      "execution_count": null,
      "metadata": {
        "id": "qY4zdi4mnKDS"
      },
      "outputs": [],
      "source": [
        "# Convertir a numérico y manejar valores negativos\n",
        "df['Temperature'] = pd.to_numeric(df['Temperature'], errors='coerce').apply(lambda x: max(0, x))\n",
        "df['Light intensity'] = pd.to_numeric(df['Light intensity'], errors='coerce').apply(lambda x: max(0, x))\n",
        "df['Humidity'] = pd.to_numeric(df['Humidity'], errors='coerce').apply(lambda x: max(0, x))"
      ]
    },
    {
      "cell_type": "code",
      "execution_count": null,
      "metadata": {
        "id": "zvrNdPBcnMJh"
      },
      "outputs": [],
      "source": [
        "# Eliminar filas con valores NaN\n",
        "df = df.dropna()"
      ]
    },
    {
      "cell_type": "code",
      "execution_count": null,
      "metadata": {
        "id": "BEU2PA4iPjoS"
      },
      "outputs": [],
      "source": []
    },
    {
      "cell_type": "code",
      "execution_count": null,
      "metadata": {
        "id": "GEK4e6qarhGg"
      },
      "outputs": [],
      "source": []
    },
    {
      "cell_type": "code",
      "execution_count": null,
      "metadata": {
        "id": "UXzAbZdAnOOq"
      },
      "outputs": [],
      "source": [
        "# Ajustar Parametros / Generar características de fecha\n",
        "np.random.seed(42)\n",
        "n_samples = df.shape[0]\n",
        "data = pd.DataFrame({\n",
        "    'Year': np.random.randint(2018, 2021, n_samples),\n",
        "    'Month': np.random.randint(1, 13, n_samples),\n",
        "    'Day': np.random.randint(1, 29, n_samples),  # Limitar días para evitar errores de fecha\n",
        "    'Hour': np.random.randint(0, 24, n_samples),\n",
        "    'Temperature': df['Temperature'],\n",
        "    'Humidity': df['Humidity'],\n",
        "    'Light intensity': df['Light intensity'],\n",
        "    'CO2 concentration in ppm': df['CO2 concentration in ppm']\n",
        "})"
      ]
    },
    {
      "cell_type": "code",
      "execution_count": null,
      "metadata": {
        "id": "8gqLNDwSPkvG"
      },
      "outputs": [],
      "source": []
    },
    {
      "cell_type": "code",
      "execution_count": null,
      "metadata": {
        "id": "FvkWwNWsrh3N"
      },
      "outputs": [],
      "source": []
    },
    {
      "cell_type": "code",
      "execution_count": null,
      "metadata": {
        "id": "XMciERq5csSw"
      },
      "outputs": [],
      "source": [
        "# Crear características adicionales de fecha y hora\n",
        "data['Date'] = pd.to_datetime(data[['Year', 'Month', 'Day']], errors='coerce')\n",
        "#data['Day of Week'] = data['Date'].dt.dayofweek\n",
        "#data['Week of Year'] = data['Date'].dt.isocalendar().week\n",
        "#data['Season'] = data['Month'].apply(lambda x: (x%12 + 3)//3)\n",
        "\n",
        "# Eliminar la columna 'Date' ya que no se necesita\n",
        "data = data.drop(columns=['Date'])"
      ]
    },
    {
      "cell_type": "code",
      "execution_count": null,
      "metadata": {
        "id": "BCJI88AdPlrI"
      },
      "outputs": [],
      "source": []
    },
    {
      "cell_type": "code",
      "execution_count": null,
      "metadata": {
        "id": "uMR3y9aormGA"
      },
      "outputs": [],
      "source": []
    },
    {
      "cell_type": "code",
      "execution_count": null,
      "metadata": {
        "id": "bIsER0RynQ1C"
      },
      "outputs": [],
      "source": [
        "# Dividir los datos en características y etiquetas\n",
        "X = data.drop(columns=['CO2 concentration in ppm'])\n",
        "y = data['CO2 concentration in ppm']"
      ]
    },
    {
      "cell_type": "code",
      "execution_count": null,
      "metadata": {
        "id": "OOxZHn1jPmeR"
      },
      "outputs": [],
      "source": []
    },
    {
      "cell_type": "code",
      "execution_count": null,
      "metadata": {
        "id": "nXRC8Z04roXU",
        "colab": {
          "base_uri": "https://localhost:8080/"
        },
        "outputId": "6c4ac2d6-6c89-4958-b687-9220cfc69d70"
      },
      "outputs": [
        {
          "output_type": "stream",
          "name": "stdout",
          "text": [
            "   Year  Month  Day  Hour  Temperature  Humidity  Light intensity\n",
            "0  2020      4   11     7         30.5      61.0               89\n",
            "1  2018     10    4    10         27.3       0.0              667\n",
            "2  2020     10   15     3          0.0      63.8               24\n",
            "3  2020      3    6    16         27.6      63.8               25\n",
            "4  2018     10   22     6         27.6      63.8               24\n",
            "5  2018      1   17     7         27.6      63.8               24\n",
            "6  2020      8   24     2         27.6      63.8               23\n",
            "7  2019      5    6    21         27.7      63.9               23\n",
            "8  2020      4   19     1         27.7      63.9               23\n",
            "9  2020      8   25    22         27.7      63.9               25\n"
          ]
        }
      ],
      "source": [
        "print(X.head(10))"
      ]
    },
    {
      "cell_type": "code",
      "execution_count": null,
      "metadata": {
        "id": "pDP2Jfc6nT_S"
      },
      "outputs": [],
      "source": [
        "# Dividir los datos en conjuntos de entrenamiento y prueba\n",
        "X_train, X_test, y_train, y_test = train_test_split(X, y, test_size=0.2, random_state=42)"
      ]
    },
    {
      "cell_type": "code",
      "execution_count": null,
      "metadata": {
        "id": "8NrkPG7zPnx2"
      },
      "outputs": [],
      "source": []
    },
    {
      "cell_type": "code",
      "execution_count": null,
      "metadata": {
        "id": "SzYxTJ4LrpMY"
      },
      "outputs": [],
      "source": []
    },
    {
      "cell_type": "code",
      "execution_count": null,
      "metadata": {
        "id": "Z-3zo5mCc2eF"
      },
      "outputs": [],
      "source": [
        "# Escalar las características\n",
        "scaler = StandardScaler()\n",
        "X_train_scaled = scaler.fit_transform(X_train)\n",
        "X_test_scaled = scaler.transform(X_test)"
      ]
    },
    {
      "cell_type": "code",
      "execution_count": null,
      "metadata": {
        "id": "Jrvtl_KJPpCT"
      },
      "outputs": [],
      "source": []
    },
    {
      "cell_type": "code",
      "execution_count": null,
      "metadata": {
        "id": "prgC7ZSvrqQa"
      },
      "outputs": [],
      "source": []
    },
    {
      "cell_type": "code",
      "execution_count": null,
      "metadata": {
        "id": "rysTuawznXFy"
      },
      "outputs": [],
      "source": [
        "# Definir los modelos base\n",
        "base_models = [\n",
        "    ('rf', RandomForestRegressor(n_estimators=100, random_state=42)),\n",
        "    ('lr', LinearRegression()),\n",
        "    ('svr', SVR(kernel='rbf')),\n",
        "    ('lasso', Lasso()),\n",
        "    ('ridge', Ridge()),\n",
        "    ('elastic_net', ElasticNet()),\n",
        "    ('gbm', GradientBoostingRegressor()),\n",
        "    ('adaboost', AdaBoostRegressor()),\n",
        "    ('xgb', XGBRegressor())\n",
        "]"
      ]
    },
    {
      "cell_type": "code",
      "execution_count": null,
      "metadata": {
        "id": "6OPM7REzPqKe"
      },
      "outputs": [],
      "source": []
    },
    {
      "cell_type": "code",
      "execution_count": null,
      "metadata": {
        "id": "nVEsx2qcrryX"
      },
      "outputs": [],
      "source": []
    },
    {
      "cell_type": "code",
      "execution_count": null,
      "metadata": {
        "id": "yjtl69eMnZZx"
      },
      "outputs": [],
      "source": [
        "# Definir el meta-modelo\n",
        "meta_model = GradientBoostingRegressor(n_estimators=100, random_state=42)"
      ]
    },
    {
      "cell_type": "code",
      "execution_count": null,
      "metadata": {
        "id": "MBmseIilPsp_"
      },
      "outputs": [],
      "source": []
    },
    {
      "cell_type": "code",
      "execution_count": null,
      "metadata": {
        "id": "3fvg3G6hrtmP"
      },
      "outputs": [],
      "source": []
    },
    {
      "cell_type": "code",
      "execution_count": null,
      "metadata": {
        "id": "aBlWYCV6DJpE"
      },
      "outputs": [],
      "source": [
        "# Crear y entrenar el modelo de stacking\n",
        "kf = RepeatedKFold(n_splits=5,  n_repeats=2, random_state=42)\n",
        "stacking_model = StackingRegressor(estimators=base_models, final_estimator=meta_model)"
      ]
    },
    {
      "cell_type": "code",
      "execution_count": null,
      "metadata": {
        "id": "f7FzR9DGPucj"
      },
      "outputs": [],
      "source": []
    },
    {
      "cell_type": "code",
      "execution_count": null,
      "metadata": {
        "id": "cUMoz--1rutx"
      },
      "outputs": [],
      "source": []
    },
    {
      "cell_type": "code",
      "execution_count": null,
      "metadata": {
        "id": "PbxwTcpiDO2q"
      },
      "outputs": [],
      "source": [
        "# Definir la grilla de hiperparámetros para RandomizedSearchCV\n",
        "param_dist = {\n",
        "    'final_estimator__n_estimators': randint(50, 200),\n",
        "    'final_estimator__learning_rate': uniform(0.05, 0.15)\n",
        "}"
      ]
    },
    {
      "cell_type": "code",
      "execution_count": null,
      "metadata": {
        "id": "K_cstUQXPxS-"
      },
      "outputs": [],
      "source": []
    },
    {
      "cell_type": "code",
      "execution_count": null,
      "metadata": {
        "id": "QHtGPLklrvxz"
      },
      "outputs": [],
      "source": []
    },
    {
      "cell_type": "code",
      "execution_count": null,
      "metadata": {
        "id": "A84ikj88DS-Y"
      },
      "outputs": [],
      "source": [
        "random_search = RandomizedSearchCV(stacking_model, param_dist, n_iter=50, cv=kf, scoring='neg_mean_squared_error', random_state=42)"
      ]
    },
    {
      "cell_type": "code",
      "execution_count": null,
      "metadata": {
        "id": "x-8OB4IiPyLj"
      },
      "outputs": [],
      "source": []
    },
    {
      "cell_type": "code",
      "execution_count": null,
      "metadata": {
        "id": "tqLny9w2rx00"
      },
      "outputs": [],
      "source": []
    },
    {
      "cell_type": "markdown",
      "metadata": {
        "id": "GtPcPoOl6Oxi"
      },
      "source": []
    },
    {
      "cell_type": "code",
      "execution_count": null,
      "metadata": {
        "id": "uPfkJ3a5ncER",
        "colab": {
          "base_uri": "https://localhost:8080/",
          "height": 250
        },
        "outputId": "e4e644f4-04a5-4d10-d4c0-dde9a186804e"
      },
      "outputs": [
        {
          "output_type": "execute_result",
          "data": {
            "text/plain": [
              "RandomizedSearchCV(cv=RepeatedKFold(n_repeats=2, n_splits=5, random_state=42),\n",
              "                   estimator=StackingRegressor(estimators=[('rf',\n",
              "                                                            RandomForestRegressor(random_state=42)),\n",
              "                                                           ('lr',\n",
              "                                                            LinearRegression()),\n",
              "                                                           ('svr', SVR()),\n",
              "                                                           ('lasso', Lasso()),\n",
              "                                                           ('ridge', Ridge()),\n",
              "                                                           ('elastic_net',\n",
              "                                                            ElasticNet()),\n",
              "                                                           ('gbm',\n",
              "                                                            GradientBoostingRegressor()),\n",
              "                                                           ('adaboost',\n",
              "                                                            AdaBoostRegressor()),\n",
              "                                                           ('xgb',\n",
              "                                                            XGBRegr...\n",
              "                                               final_estimator=GradientBoostingRegressor(random_state=42)),\n",
              "                   n_iter=50,\n",
              "                   param_distributions={'final_estimator__learning_rate': <scipy.stats._distn_infrastructure.rv_continuous_frozen object at 0x7c0e060fd3f0>,\n",
              "                                        'final_estimator__n_estimators': <scipy.stats._distn_infrastructure.rv_discrete_frozen object at 0x7c0e02709d50>},\n",
              "                   random_state=42, scoring='neg_mean_squared_error')"
            ],
            "text/html": [
              "<style>#sk-container-id-1 {\n",
              "  /* Definition of color scheme common for light and dark mode */\n",
              "  --sklearn-color-text: black;\n",
              "  --sklearn-color-line: gray;\n",
              "  /* Definition of color scheme for unfitted estimators */\n",
              "  --sklearn-color-unfitted-level-0: #fff5e6;\n",
              "  --sklearn-color-unfitted-level-1: #f6e4d2;\n",
              "  --sklearn-color-unfitted-level-2: #ffe0b3;\n",
              "  --sklearn-color-unfitted-level-3: chocolate;\n",
              "  /* Definition of color scheme for fitted estimators */\n",
              "  --sklearn-color-fitted-level-0: #f0f8ff;\n",
              "  --sklearn-color-fitted-level-1: #d4ebff;\n",
              "  --sklearn-color-fitted-level-2: #b3dbfd;\n",
              "  --sklearn-color-fitted-level-3: cornflowerblue;\n",
              "\n",
              "  /* Specific color for light theme */\n",
              "  --sklearn-color-text-on-default-background: var(--sg-text-color, var(--theme-code-foreground, var(--jp-content-font-color1, black)));\n",
              "  --sklearn-color-background: var(--sg-background-color, var(--theme-background, var(--jp-layout-color0, white)));\n",
              "  --sklearn-color-border-box: var(--sg-text-color, var(--theme-code-foreground, var(--jp-content-font-color1, black)));\n",
              "  --sklearn-color-icon: #696969;\n",
              "\n",
              "  @media (prefers-color-scheme: dark) {\n",
              "    /* Redefinition of color scheme for dark theme */\n",
              "    --sklearn-color-text-on-default-background: var(--sg-text-color, var(--theme-code-foreground, var(--jp-content-font-color1, white)));\n",
              "    --sklearn-color-background: var(--sg-background-color, var(--theme-background, var(--jp-layout-color0, #111)));\n",
              "    --sklearn-color-border-box: var(--sg-text-color, var(--theme-code-foreground, var(--jp-content-font-color1, white)));\n",
              "    --sklearn-color-icon: #878787;\n",
              "  }\n",
              "}\n",
              "\n",
              "#sk-container-id-1 {\n",
              "  color: var(--sklearn-color-text);\n",
              "}\n",
              "\n",
              "#sk-container-id-1 pre {\n",
              "  padding: 0;\n",
              "}\n",
              "\n",
              "#sk-container-id-1 input.sk-hidden--visually {\n",
              "  border: 0;\n",
              "  clip: rect(1px 1px 1px 1px);\n",
              "  clip: rect(1px, 1px, 1px, 1px);\n",
              "  height: 1px;\n",
              "  margin: -1px;\n",
              "  overflow: hidden;\n",
              "  padding: 0;\n",
              "  position: absolute;\n",
              "  width: 1px;\n",
              "}\n",
              "\n",
              "#sk-container-id-1 div.sk-dashed-wrapped {\n",
              "  border: 1px dashed var(--sklearn-color-line);\n",
              "  margin: 0 0.4em 0.5em 0.4em;\n",
              "  box-sizing: border-box;\n",
              "  padding-bottom: 0.4em;\n",
              "  background-color: var(--sklearn-color-background);\n",
              "}\n",
              "\n",
              "#sk-container-id-1 div.sk-container {\n",
              "  /* jupyter's `normalize.less` sets `[hidden] { display: none; }`\n",
              "     but bootstrap.min.css set `[hidden] { display: none !important; }`\n",
              "     so we also need the `!important` here to be able to override the\n",
              "     default hidden behavior on the sphinx rendered scikit-learn.org.\n",
              "     See: https://github.com/scikit-learn/scikit-learn/issues/21755 */\n",
              "  display: inline-block !important;\n",
              "  position: relative;\n",
              "}\n",
              "\n",
              "#sk-container-id-1 div.sk-text-repr-fallback {\n",
              "  display: none;\n",
              "}\n",
              "\n",
              "div.sk-parallel-item,\n",
              "div.sk-serial,\n",
              "div.sk-item {\n",
              "  /* draw centered vertical line to link estimators */\n",
              "  background-image: linear-gradient(var(--sklearn-color-text-on-default-background), var(--sklearn-color-text-on-default-background));\n",
              "  background-size: 2px 100%;\n",
              "  background-repeat: no-repeat;\n",
              "  background-position: center center;\n",
              "}\n",
              "\n",
              "/* Parallel-specific style estimator block */\n",
              "\n",
              "#sk-container-id-1 div.sk-parallel-item::after {\n",
              "  content: \"\";\n",
              "  width: 100%;\n",
              "  border-bottom: 2px solid var(--sklearn-color-text-on-default-background);\n",
              "  flex-grow: 1;\n",
              "}\n",
              "\n",
              "#sk-container-id-1 div.sk-parallel {\n",
              "  display: flex;\n",
              "  align-items: stretch;\n",
              "  justify-content: center;\n",
              "  background-color: var(--sklearn-color-background);\n",
              "  position: relative;\n",
              "}\n",
              "\n",
              "#sk-container-id-1 div.sk-parallel-item {\n",
              "  display: flex;\n",
              "  flex-direction: column;\n",
              "}\n",
              "\n",
              "#sk-container-id-1 div.sk-parallel-item:first-child::after {\n",
              "  align-self: flex-end;\n",
              "  width: 50%;\n",
              "}\n",
              "\n",
              "#sk-container-id-1 div.sk-parallel-item:last-child::after {\n",
              "  align-self: flex-start;\n",
              "  width: 50%;\n",
              "}\n",
              "\n",
              "#sk-container-id-1 div.sk-parallel-item:only-child::after {\n",
              "  width: 0;\n",
              "}\n",
              "\n",
              "/* Serial-specific style estimator block */\n",
              "\n",
              "#sk-container-id-1 div.sk-serial {\n",
              "  display: flex;\n",
              "  flex-direction: column;\n",
              "  align-items: center;\n",
              "  background-color: var(--sklearn-color-background);\n",
              "  padding-right: 1em;\n",
              "  padding-left: 1em;\n",
              "}\n",
              "\n",
              "\n",
              "/* Toggleable style: style used for estimator/Pipeline/ColumnTransformer box that is\n",
              "clickable and can be expanded/collapsed.\n",
              "- Pipeline and ColumnTransformer use this feature and define the default style\n",
              "- Estimators will overwrite some part of the style using the `sk-estimator` class\n",
              "*/\n",
              "\n",
              "/* Pipeline and ColumnTransformer style (default) */\n",
              "\n",
              "#sk-container-id-1 div.sk-toggleable {\n",
              "  /* Default theme specific background. It is overwritten whether we have a\n",
              "  specific estimator or a Pipeline/ColumnTransformer */\n",
              "  background-color: var(--sklearn-color-background);\n",
              "}\n",
              "\n",
              "/* Toggleable label */\n",
              "#sk-container-id-1 label.sk-toggleable__label {\n",
              "  cursor: pointer;\n",
              "  display: block;\n",
              "  width: 100%;\n",
              "  margin-bottom: 0;\n",
              "  padding: 0.5em;\n",
              "  box-sizing: border-box;\n",
              "  text-align: center;\n",
              "}\n",
              "\n",
              "#sk-container-id-1 label.sk-toggleable__label-arrow:before {\n",
              "  /* Arrow on the left of the label */\n",
              "  content: \"▸\";\n",
              "  float: left;\n",
              "  margin-right: 0.25em;\n",
              "  color: var(--sklearn-color-icon);\n",
              "}\n",
              "\n",
              "#sk-container-id-1 label.sk-toggleable__label-arrow:hover:before {\n",
              "  color: var(--sklearn-color-text);\n",
              "}\n",
              "\n",
              "/* Toggleable content - dropdown */\n",
              "\n",
              "#sk-container-id-1 div.sk-toggleable__content {\n",
              "  max-height: 0;\n",
              "  max-width: 0;\n",
              "  overflow: hidden;\n",
              "  text-align: left;\n",
              "  /* unfitted */\n",
              "  background-color: var(--sklearn-color-unfitted-level-0);\n",
              "}\n",
              "\n",
              "#sk-container-id-1 div.sk-toggleable__content.fitted {\n",
              "  /* fitted */\n",
              "  background-color: var(--sklearn-color-fitted-level-0);\n",
              "}\n",
              "\n",
              "#sk-container-id-1 div.sk-toggleable__content pre {\n",
              "  margin: 0.2em;\n",
              "  border-radius: 0.25em;\n",
              "  color: var(--sklearn-color-text);\n",
              "  /* unfitted */\n",
              "  background-color: var(--sklearn-color-unfitted-level-0);\n",
              "}\n",
              "\n",
              "#sk-container-id-1 div.sk-toggleable__content.fitted pre {\n",
              "  /* unfitted */\n",
              "  background-color: var(--sklearn-color-fitted-level-0);\n",
              "}\n",
              "\n",
              "#sk-container-id-1 input.sk-toggleable__control:checked~div.sk-toggleable__content {\n",
              "  /* Expand drop-down */\n",
              "  max-height: 200px;\n",
              "  max-width: 100%;\n",
              "  overflow: auto;\n",
              "}\n",
              "\n",
              "#sk-container-id-1 input.sk-toggleable__control:checked~label.sk-toggleable__label-arrow:before {\n",
              "  content: \"▾\";\n",
              "}\n",
              "\n",
              "/* Pipeline/ColumnTransformer-specific style */\n",
              "\n",
              "#sk-container-id-1 div.sk-label input.sk-toggleable__control:checked~label.sk-toggleable__label {\n",
              "  color: var(--sklearn-color-text);\n",
              "  background-color: var(--sklearn-color-unfitted-level-2);\n",
              "}\n",
              "\n",
              "#sk-container-id-1 div.sk-label.fitted input.sk-toggleable__control:checked~label.sk-toggleable__label {\n",
              "  background-color: var(--sklearn-color-fitted-level-2);\n",
              "}\n",
              "\n",
              "/* Estimator-specific style */\n",
              "\n",
              "/* Colorize estimator box */\n",
              "#sk-container-id-1 div.sk-estimator input.sk-toggleable__control:checked~label.sk-toggleable__label {\n",
              "  /* unfitted */\n",
              "  background-color: var(--sklearn-color-unfitted-level-2);\n",
              "}\n",
              "\n",
              "#sk-container-id-1 div.sk-estimator.fitted input.sk-toggleable__control:checked~label.sk-toggleable__label {\n",
              "  /* fitted */\n",
              "  background-color: var(--sklearn-color-fitted-level-2);\n",
              "}\n",
              "\n",
              "#sk-container-id-1 div.sk-label label.sk-toggleable__label,\n",
              "#sk-container-id-1 div.sk-label label {\n",
              "  /* The background is the default theme color */\n",
              "  color: var(--sklearn-color-text-on-default-background);\n",
              "}\n",
              "\n",
              "/* On hover, darken the color of the background */\n",
              "#sk-container-id-1 div.sk-label:hover label.sk-toggleable__label {\n",
              "  color: var(--sklearn-color-text);\n",
              "  background-color: var(--sklearn-color-unfitted-level-2);\n",
              "}\n",
              "\n",
              "/* Label box, darken color on hover, fitted */\n",
              "#sk-container-id-1 div.sk-label.fitted:hover label.sk-toggleable__label.fitted {\n",
              "  color: var(--sklearn-color-text);\n",
              "  background-color: var(--sklearn-color-fitted-level-2);\n",
              "}\n",
              "\n",
              "/* Estimator label */\n",
              "\n",
              "#sk-container-id-1 div.sk-label label {\n",
              "  font-family: monospace;\n",
              "  font-weight: bold;\n",
              "  display: inline-block;\n",
              "  line-height: 1.2em;\n",
              "}\n",
              "\n",
              "#sk-container-id-1 div.sk-label-container {\n",
              "  text-align: center;\n",
              "}\n",
              "\n",
              "/* Estimator-specific */\n",
              "#sk-container-id-1 div.sk-estimator {\n",
              "  font-family: monospace;\n",
              "  border: 1px dotted var(--sklearn-color-border-box);\n",
              "  border-radius: 0.25em;\n",
              "  box-sizing: border-box;\n",
              "  margin-bottom: 0.5em;\n",
              "  /* unfitted */\n",
              "  background-color: var(--sklearn-color-unfitted-level-0);\n",
              "}\n",
              "\n",
              "#sk-container-id-1 div.sk-estimator.fitted {\n",
              "  /* fitted */\n",
              "  background-color: var(--sklearn-color-fitted-level-0);\n",
              "}\n",
              "\n",
              "/* on hover */\n",
              "#sk-container-id-1 div.sk-estimator:hover {\n",
              "  /* unfitted */\n",
              "  background-color: var(--sklearn-color-unfitted-level-2);\n",
              "}\n",
              "\n",
              "#sk-container-id-1 div.sk-estimator.fitted:hover {\n",
              "  /* fitted */\n",
              "  background-color: var(--sklearn-color-fitted-level-2);\n",
              "}\n",
              "\n",
              "/* Specification for estimator info (e.g. \"i\" and \"?\") */\n",
              "\n",
              "/* Common style for \"i\" and \"?\" */\n",
              "\n",
              ".sk-estimator-doc-link,\n",
              "a:link.sk-estimator-doc-link,\n",
              "a:visited.sk-estimator-doc-link {\n",
              "  float: right;\n",
              "  font-size: smaller;\n",
              "  line-height: 1em;\n",
              "  font-family: monospace;\n",
              "  background-color: var(--sklearn-color-background);\n",
              "  border-radius: 1em;\n",
              "  height: 1em;\n",
              "  width: 1em;\n",
              "  text-decoration: none !important;\n",
              "  margin-left: 1ex;\n",
              "  /* unfitted */\n",
              "  border: var(--sklearn-color-unfitted-level-1) 1pt solid;\n",
              "  color: var(--sklearn-color-unfitted-level-1);\n",
              "}\n",
              "\n",
              ".sk-estimator-doc-link.fitted,\n",
              "a:link.sk-estimator-doc-link.fitted,\n",
              "a:visited.sk-estimator-doc-link.fitted {\n",
              "  /* fitted */\n",
              "  border: var(--sklearn-color-fitted-level-1) 1pt solid;\n",
              "  color: var(--sklearn-color-fitted-level-1);\n",
              "}\n",
              "\n",
              "/* On hover */\n",
              "div.sk-estimator:hover .sk-estimator-doc-link:hover,\n",
              ".sk-estimator-doc-link:hover,\n",
              "div.sk-label-container:hover .sk-estimator-doc-link:hover,\n",
              ".sk-estimator-doc-link:hover {\n",
              "  /* unfitted */\n",
              "  background-color: var(--sklearn-color-unfitted-level-3);\n",
              "  color: var(--sklearn-color-background);\n",
              "  text-decoration: none;\n",
              "}\n",
              "\n",
              "div.sk-estimator.fitted:hover .sk-estimator-doc-link.fitted:hover,\n",
              ".sk-estimator-doc-link.fitted:hover,\n",
              "div.sk-label-container:hover .sk-estimator-doc-link.fitted:hover,\n",
              ".sk-estimator-doc-link.fitted:hover {\n",
              "  /* fitted */\n",
              "  background-color: var(--sklearn-color-fitted-level-3);\n",
              "  color: var(--sklearn-color-background);\n",
              "  text-decoration: none;\n",
              "}\n",
              "\n",
              "/* Span, style for the box shown on hovering the info icon */\n",
              ".sk-estimator-doc-link span {\n",
              "  display: none;\n",
              "  z-index: 9999;\n",
              "  position: relative;\n",
              "  font-weight: normal;\n",
              "  right: .2ex;\n",
              "  padding: .5ex;\n",
              "  margin: .5ex;\n",
              "  width: min-content;\n",
              "  min-width: 20ex;\n",
              "  max-width: 50ex;\n",
              "  color: var(--sklearn-color-text);\n",
              "  box-shadow: 2pt 2pt 4pt #999;\n",
              "  /* unfitted */\n",
              "  background: var(--sklearn-color-unfitted-level-0);\n",
              "  border: .5pt solid var(--sklearn-color-unfitted-level-3);\n",
              "}\n",
              "\n",
              ".sk-estimator-doc-link.fitted span {\n",
              "  /* fitted */\n",
              "  background: var(--sklearn-color-fitted-level-0);\n",
              "  border: var(--sklearn-color-fitted-level-3);\n",
              "}\n",
              "\n",
              ".sk-estimator-doc-link:hover span {\n",
              "  display: block;\n",
              "}\n",
              "\n",
              "/* \"?\"-specific style due to the `<a>` HTML tag */\n",
              "\n",
              "#sk-container-id-1 a.estimator_doc_link {\n",
              "  float: right;\n",
              "  font-size: 1rem;\n",
              "  line-height: 1em;\n",
              "  font-family: monospace;\n",
              "  background-color: var(--sklearn-color-background);\n",
              "  border-radius: 1rem;\n",
              "  height: 1rem;\n",
              "  width: 1rem;\n",
              "  text-decoration: none;\n",
              "  /* unfitted */\n",
              "  color: var(--sklearn-color-unfitted-level-1);\n",
              "  border: var(--sklearn-color-unfitted-level-1) 1pt solid;\n",
              "}\n",
              "\n",
              "#sk-container-id-1 a.estimator_doc_link.fitted {\n",
              "  /* fitted */\n",
              "  border: var(--sklearn-color-fitted-level-1) 1pt solid;\n",
              "  color: var(--sklearn-color-fitted-level-1);\n",
              "}\n",
              "\n",
              "/* On hover */\n",
              "#sk-container-id-1 a.estimator_doc_link:hover {\n",
              "  /* unfitted */\n",
              "  background-color: var(--sklearn-color-unfitted-level-3);\n",
              "  color: var(--sklearn-color-background);\n",
              "  text-decoration: none;\n",
              "}\n",
              "\n",
              "#sk-container-id-1 a.estimator_doc_link.fitted:hover {\n",
              "  /* fitted */\n",
              "  background-color: var(--sklearn-color-fitted-level-3);\n",
              "}\n",
              "</style><div id=\"sk-container-id-1\" class=\"sk-top-container\"><div class=\"sk-text-repr-fallback\"><pre>RandomizedSearchCV(cv=RepeatedKFold(n_repeats=2, n_splits=5, random_state=42),\n",
              "                   estimator=StackingRegressor(estimators=[(&#x27;rf&#x27;,\n",
              "                                                            RandomForestRegressor(random_state=42)),\n",
              "                                                           (&#x27;lr&#x27;,\n",
              "                                                            LinearRegression()),\n",
              "                                                           (&#x27;svr&#x27;, SVR()),\n",
              "                                                           (&#x27;lasso&#x27;, Lasso()),\n",
              "                                                           (&#x27;ridge&#x27;, Ridge()),\n",
              "                                                           (&#x27;elastic_net&#x27;,\n",
              "                                                            ElasticNet()),\n",
              "                                                           (&#x27;gbm&#x27;,\n",
              "                                                            GradientBoostingRegressor()),\n",
              "                                                           (&#x27;adaboost&#x27;,\n",
              "                                                            AdaBoostRegressor()),\n",
              "                                                           (&#x27;xgb&#x27;,\n",
              "                                                            XGBRegr...\n",
              "                                               final_estimator=GradientBoostingRegressor(random_state=42)),\n",
              "                   n_iter=50,\n",
              "                   param_distributions={&#x27;final_estimator__learning_rate&#x27;: &lt;scipy.stats._distn_infrastructure.rv_continuous_frozen object at 0x7c0e060fd3f0&gt;,\n",
              "                                        &#x27;final_estimator__n_estimators&#x27;: &lt;scipy.stats._distn_infrastructure.rv_discrete_frozen object at 0x7c0e02709d50&gt;},\n",
              "                   random_state=42, scoring=&#x27;neg_mean_squared_error&#x27;)</pre><b>In a Jupyter environment, please rerun this cell to show the HTML representation or trust the notebook. <br />On GitHub, the HTML representation is unable to render, please try loading this page with nbviewer.org.</b></div><div class=\"sk-container\" hidden><div class=\"sk-item sk-dashed-wrapped\"><div class=\"sk-label-container\"><div class=\"sk-label fitted sk-toggleable\"><input class=\"sk-toggleable__control sk-hidden--visually\" id=\"sk-estimator-id-1\" type=\"checkbox\" ><label for=\"sk-estimator-id-1\" class=\"sk-toggleable__label fitted sk-toggleable__label-arrow fitted\">&nbsp;&nbsp;RandomizedSearchCV<a class=\"sk-estimator-doc-link fitted\" rel=\"noreferrer\" target=\"_blank\" href=\"https://scikit-learn.org/1.5/modules/generated/sklearn.model_selection.RandomizedSearchCV.html\">?<span>Documentation for RandomizedSearchCV</span></a><span class=\"sk-estimator-doc-link fitted\">i<span>Fitted</span></span></label><div class=\"sk-toggleable__content fitted\"><pre>RandomizedSearchCV(cv=RepeatedKFold(n_repeats=2, n_splits=5, random_state=42),\n",
              "                   estimator=StackingRegressor(estimators=[(&#x27;rf&#x27;,\n",
              "                                                            RandomForestRegressor(random_state=42)),\n",
              "                                                           (&#x27;lr&#x27;,\n",
              "                                                            LinearRegression()),\n",
              "                                                           (&#x27;svr&#x27;, SVR()),\n",
              "                                                           (&#x27;lasso&#x27;, Lasso()),\n",
              "                                                           (&#x27;ridge&#x27;, Ridge()),\n",
              "                                                           (&#x27;elastic_net&#x27;,\n",
              "                                                            ElasticNet()),\n",
              "                                                           (&#x27;gbm&#x27;,\n",
              "                                                            GradientBoostingRegressor()),\n",
              "                                                           (&#x27;adaboost&#x27;,\n",
              "                                                            AdaBoostRegressor()),\n",
              "                                                           (&#x27;xgb&#x27;,\n",
              "                                                            XGBRegr...\n",
              "                                               final_estimator=GradientBoostingRegressor(random_state=42)),\n",
              "                   n_iter=50,\n",
              "                   param_distributions={&#x27;final_estimator__learning_rate&#x27;: &lt;scipy.stats._distn_infrastructure.rv_continuous_frozen object at 0x7c0e060fd3f0&gt;,\n",
              "                                        &#x27;final_estimator__n_estimators&#x27;: &lt;scipy.stats._distn_infrastructure.rv_discrete_frozen object at 0x7c0e02709d50&gt;},\n",
              "                   random_state=42, scoring=&#x27;neg_mean_squared_error&#x27;)</pre></div> </div></div><div class=\"sk-parallel\"><div class=\"sk-parallel-item\"><div class=\"sk-item\"><div class=\"sk-label-container\"><div class=\"sk-label fitted sk-toggleable\"><input class=\"sk-toggleable__control sk-hidden--visually\" id=\"sk-estimator-id-2\" type=\"checkbox\" ><label for=\"sk-estimator-id-2\" class=\"sk-toggleable__label fitted sk-toggleable__label-arrow fitted\">best_estimator_: StackingRegressor</label><div class=\"sk-toggleable__content fitted\"><pre>StackingRegressor(estimators=[(&#x27;rf&#x27;, RandomForestRegressor(random_state=42)),\n",
              "                              (&#x27;lr&#x27;, LinearRegression()), (&#x27;svr&#x27;, SVR()),\n",
              "                              (&#x27;lasso&#x27;, Lasso()), (&#x27;ridge&#x27;, Ridge()),\n",
              "                              (&#x27;elastic_net&#x27;, ElasticNet()),\n",
              "                              (&#x27;gbm&#x27;, GradientBoostingRegressor()),\n",
              "                              (&#x27;adaboost&#x27;, AdaBoostRegressor()),\n",
              "                              (&#x27;xgb&#x27;,\n",
              "                               XGBRegressor(base_score=None, booster=None,\n",
              "                                            callbacks=None,\n",
              "                                            colsample_bylevel=None,\n",
              "                                            colsample_byn...\n",
              "                                            max_cat_threshold=None,\n",
              "                                            max_cat_to_onehot=None,\n",
              "                                            max_delta_step=None, max_depth=None,\n",
              "                                            max_leaves=None,\n",
              "                                            min_child_weight=None, missing=nan,\n",
              "                                            monotone_constraints=None,\n",
              "                                            multi_strategy=None,\n",
              "                                            n_estimators=None, n_jobs=None,\n",
              "                                            num_parallel_tree=None,\n",
              "                                            random_state=None, ...))],\n",
              "                  final_estimator=GradientBoostingRegressor(learning_rate=0.08119124943022832,\n",
              "                                                            n_estimators=53,\n",
              "                                                            random_state=42))</pre></div> </div></div><div class=\"sk-serial\"><div class=\"sk-item\"><div class=\"sk-serial\"><div class=\"sk-item\"><div class=\"sk-parallel\"><div class=\"sk-parallel-item\"><div class=\"sk-item\"><div class=\"sk-label-container\"><div class=\"sk-label fitted sk-toggleable\"><label>rf</label></div></div><div class=\"sk-serial\"><div class=\"sk-item\"><div class=\"sk-estimator fitted sk-toggleable\"><input class=\"sk-toggleable__control sk-hidden--visually\" id=\"sk-estimator-id-3\" type=\"checkbox\" ><label for=\"sk-estimator-id-3\" class=\"sk-toggleable__label fitted sk-toggleable__label-arrow fitted\">&nbsp;RandomForestRegressor<a class=\"sk-estimator-doc-link fitted\" rel=\"noreferrer\" target=\"_blank\" href=\"https://scikit-learn.org/1.5/modules/generated/sklearn.ensemble.RandomForestRegressor.html\">?<span>Documentation for RandomForestRegressor</span></a></label><div class=\"sk-toggleable__content fitted\"><pre>RandomForestRegressor(random_state=42)</pre></div> </div></div></div></div></div><div class=\"sk-parallel-item\"><div class=\"sk-item\"><div class=\"sk-label-container\"><div class=\"sk-label fitted sk-toggleable\"><label>lr</label></div></div><div class=\"sk-serial\"><div class=\"sk-item\"><div class=\"sk-estimator fitted sk-toggleable\"><input class=\"sk-toggleable__control sk-hidden--visually\" id=\"sk-estimator-id-4\" type=\"checkbox\" ><label for=\"sk-estimator-id-4\" class=\"sk-toggleable__label fitted sk-toggleable__label-arrow fitted\">&nbsp;LinearRegression<a class=\"sk-estimator-doc-link fitted\" rel=\"noreferrer\" target=\"_blank\" href=\"https://scikit-learn.org/1.5/modules/generated/sklearn.linear_model.LinearRegression.html\">?<span>Documentation for LinearRegression</span></a></label><div class=\"sk-toggleable__content fitted\"><pre>LinearRegression()</pre></div> </div></div></div></div></div><div class=\"sk-parallel-item\"><div class=\"sk-item\"><div class=\"sk-label-container\"><div class=\"sk-label fitted sk-toggleable\"><label>svr</label></div></div><div class=\"sk-serial\"><div class=\"sk-item\"><div class=\"sk-estimator fitted sk-toggleable\"><input class=\"sk-toggleable__control sk-hidden--visually\" id=\"sk-estimator-id-5\" type=\"checkbox\" ><label for=\"sk-estimator-id-5\" class=\"sk-toggleable__label fitted sk-toggleable__label-arrow fitted\">&nbsp;SVR<a class=\"sk-estimator-doc-link fitted\" rel=\"noreferrer\" target=\"_blank\" href=\"https://scikit-learn.org/1.5/modules/generated/sklearn.svm.SVR.html\">?<span>Documentation for SVR</span></a></label><div class=\"sk-toggleable__content fitted\"><pre>SVR()</pre></div> </div></div></div></div></div><div class=\"sk-parallel-item\"><div class=\"sk-item\"><div class=\"sk-label-container\"><div class=\"sk-label fitted sk-toggleable\"><label>lasso</label></div></div><div class=\"sk-serial\"><div class=\"sk-item\"><div class=\"sk-estimator fitted sk-toggleable\"><input class=\"sk-toggleable__control sk-hidden--visually\" id=\"sk-estimator-id-6\" type=\"checkbox\" ><label for=\"sk-estimator-id-6\" class=\"sk-toggleable__label fitted sk-toggleable__label-arrow fitted\">&nbsp;Lasso<a class=\"sk-estimator-doc-link fitted\" rel=\"noreferrer\" target=\"_blank\" href=\"https://scikit-learn.org/1.5/modules/generated/sklearn.linear_model.Lasso.html\">?<span>Documentation for Lasso</span></a></label><div class=\"sk-toggleable__content fitted\"><pre>Lasso()</pre></div> </div></div></div></div></div><div class=\"sk-parallel-item\"><div class=\"sk-item\"><div class=\"sk-label-container\"><div class=\"sk-label fitted sk-toggleable\"><label>ridge</label></div></div><div class=\"sk-serial\"><div class=\"sk-item\"><div class=\"sk-estimator fitted sk-toggleable\"><input class=\"sk-toggleable__control sk-hidden--visually\" id=\"sk-estimator-id-7\" type=\"checkbox\" ><label for=\"sk-estimator-id-7\" class=\"sk-toggleable__label fitted sk-toggleable__label-arrow fitted\">&nbsp;Ridge<a class=\"sk-estimator-doc-link fitted\" rel=\"noreferrer\" target=\"_blank\" href=\"https://scikit-learn.org/1.5/modules/generated/sklearn.linear_model.Ridge.html\">?<span>Documentation for Ridge</span></a></label><div class=\"sk-toggleable__content fitted\"><pre>Ridge()</pre></div> </div></div></div></div></div><div class=\"sk-parallel-item\"><div class=\"sk-item\"><div class=\"sk-label-container\"><div class=\"sk-label fitted sk-toggleable\"><label>elastic_net</label></div></div><div class=\"sk-serial\"><div class=\"sk-item\"><div class=\"sk-estimator fitted sk-toggleable\"><input class=\"sk-toggleable__control sk-hidden--visually\" id=\"sk-estimator-id-8\" type=\"checkbox\" ><label for=\"sk-estimator-id-8\" class=\"sk-toggleable__label fitted sk-toggleable__label-arrow fitted\">&nbsp;ElasticNet<a class=\"sk-estimator-doc-link fitted\" rel=\"noreferrer\" target=\"_blank\" href=\"https://scikit-learn.org/1.5/modules/generated/sklearn.linear_model.ElasticNet.html\">?<span>Documentation for ElasticNet</span></a></label><div class=\"sk-toggleable__content fitted\"><pre>ElasticNet()</pre></div> </div></div></div></div></div><div class=\"sk-parallel-item\"><div class=\"sk-item\"><div class=\"sk-label-container\"><div class=\"sk-label fitted sk-toggleable\"><label>gbm</label></div></div><div class=\"sk-serial\"><div class=\"sk-item\"><div class=\"sk-estimator fitted sk-toggleable\"><input class=\"sk-toggleable__control sk-hidden--visually\" id=\"sk-estimator-id-9\" type=\"checkbox\" ><label for=\"sk-estimator-id-9\" class=\"sk-toggleable__label fitted sk-toggleable__label-arrow fitted\">&nbsp;GradientBoostingRegressor<a class=\"sk-estimator-doc-link fitted\" rel=\"noreferrer\" target=\"_blank\" href=\"https://scikit-learn.org/1.5/modules/generated/sklearn.ensemble.GradientBoostingRegressor.html\">?<span>Documentation for GradientBoostingRegressor</span></a></label><div class=\"sk-toggleable__content fitted\"><pre>GradientBoostingRegressor()</pre></div> </div></div></div></div></div><div class=\"sk-parallel-item\"><div class=\"sk-item\"><div class=\"sk-label-container\"><div class=\"sk-label fitted sk-toggleable\"><label>adaboost</label></div></div><div class=\"sk-serial\"><div class=\"sk-item\"><div class=\"sk-estimator fitted sk-toggleable\"><input class=\"sk-toggleable__control sk-hidden--visually\" id=\"sk-estimator-id-10\" type=\"checkbox\" ><label for=\"sk-estimator-id-10\" class=\"sk-toggleable__label fitted sk-toggleable__label-arrow fitted\">&nbsp;AdaBoostRegressor<a class=\"sk-estimator-doc-link fitted\" rel=\"noreferrer\" target=\"_blank\" href=\"https://scikit-learn.org/1.5/modules/generated/sklearn.ensemble.AdaBoostRegressor.html\">?<span>Documentation for AdaBoostRegressor</span></a></label><div class=\"sk-toggleable__content fitted\"><pre>AdaBoostRegressor()</pre></div> </div></div></div></div></div><div class=\"sk-parallel-item\"><div class=\"sk-item\"><div class=\"sk-label-container\"><div class=\"sk-label fitted sk-toggleable\"><label>xgb</label></div></div><div class=\"sk-serial\"><div class=\"sk-item\"><div class=\"sk-estimator fitted sk-toggleable\"><input class=\"sk-toggleable__control sk-hidden--visually\" id=\"sk-estimator-id-11\" type=\"checkbox\" ><label for=\"sk-estimator-id-11\" class=\"sk-toggleable__label fitted sk-toggleable__label-arrow fitted\">XGBRegressor</label><div class=\"sk-toggleable__content fitted\"><pre>XGBRegressor(base_score=None, booster=None, callbacks=None,\n",
              "             colsample_bylevel=None, colsample_bynode=None,\n",
              "             colsample_bytree=None, device=None, early_stopping_rounds=None,\n",
              "             enable_categorical=False, eval_metric=None, feature_types=None,\n",
              "             gamma=None, grow_policy=None, importance_type=None,\n",
              "             interaction_constraints=None, learning_rate=None, max_bin=None,\n",
              "             max_cat_threshold=None, max_cat_to_onehot=None,\n",
              "             max_delta_step=None, max_depth=None, max_leaves=None,\n",
              "             min_child_weight=None, missing=nan, monotone_constraints=None,\n",
              "             multi_strategy=None, n_estimators=None, n_jobs=None,\n",
              "             num_parallel_tree=None, random_state=None, ...)</pre></div> </div></div></div></div></div></div></div><div class=\"sk-item\"><div class=\"sk-parallel\"><div class=\"sk-parallel-item\"><div class=\"sk-item\"><div class=\"sk-label-container\"><div class=\"sk-label fitted sk-toggleable\"><label>final_estimator</label></div></div><div class=\"sk-serial\"><div class=\"sk-item\"><div class=\"sk-estimator fitted sk-toggleable\"><input class=\"sk-toggleable__control sk-hidden--visually\" id=\"sk-estimator-id-12\" type=\"checkbox\" ><label for=\"sk-estimator-id-12\" class=\"sk-toggleable__label fitted sk-toggleable__label-arrow fitted\">&nbsp;GradientBoostingRegressor<a class=\"sk-estimator-doc-link fitted\" rel=\"noreferrer\" target=\"_blank\" href=\"https://scikit-learn.org/1.5/modules/generated/sklearn.ensemble.GradientBoostingRegressor.html\">?<span>Documentation for GradientBoostingRegressor</span></a></label><div class=\"sk-toggleable__content fitted\"><pre>GradientBoostingRegressor(learning_rate=0.08119124943022832, n_estimators=53,\n",
              "                          random_state=42)</pre></div> </div></div></div></div></div></div></div></div></div></div></div></div></div></div></div></div>"
            ]
          },
          "metadata": {},
          "execution_count": 19
        }
      ],
      "source": [
        "# Entrenar el modelo con los datos de entrenamiento\n",
        "random_search.fit(X_train_scaled, y_train)"
      ]
    },
    {
      "cell_type": "markdown",
      "metadata": {
        "id": "OEt0sH67o4W1"
      },
      "source": []
    },
    {
      "cell_type": "code",
      "execution_count": null,
      "metadata": {
        "id": "4Addu6nkryti"
      },
      "outputs": [],
      "source": []
    },
    {
      "cell_type": "code",
      "execution_count": null,
      "metadata": {
        "id": "ta_q-Oc5zOXk"
      },
      "outputs": [],
      "source": [
        "# Usar los mejores parámetros encontrados en RandomizedSearchCV para GridSearchCV\n",
        "best_params = random_search.best_params_"
      ]
    },
    {
      "cell_type": "code",
      "execution_count": null,
      "metadata": {
        "id": "EbFYNB7WOifu"
      },
      "outputs": [],
      "source": []
    },
    {
      "cell_type": "code",
      "execution_count": null,
      "metadata": {
        "id": "VXFBNwsWzU1b"
      },
      "outputs": [],
      "source": [
        "# param_grid = {\n",
        "#     'final_estimator__n_estimators': [best_params['final_estimator__n_estimators']-10, best_params['final_estimator__n_estimators'], best_params['final_estimator__n_estimators']+10],\n",
        "#     'final_estimator__learning_rate': [best_params['final_estimator__learning_rate']-0.01, best_params['final_estimator__learning_rate'], best_params['final_estimator__learning_rate']+0.01]\n",
        "# }"
      ]
    },
    {
      "cell_type": "code",
      "execution_count": null,
      "metadata": {
        "id": "dlNamPYdzarK"
      },
      "outputs": [],
      "source": [
        "# Realizar GridSearchCV para encontrar los mejores hiperparámetros iniciales utilizando los parametro de RandomizedSearchCV\n",
        "# grid_search = GridSearchCV(random_search.best_estimator_, param_grid, cv=kf, scoring='neg_mean_squared_error')\n"
      ]
    },
    {
      "cell_type": "code",
      "execution_count": null,
      "metadata": {
        "id": "3tvjdIIfzedr"
      },
      "outputs": [],
      "source": [
        "#grid_search.fit(X_train_scaled, y_train)"
      ]
    },
    {
      "cell_type": "code",
      "execution_count": null,
      "metadata": {
        "id": "mdL2FJZI0c38"
      },
      "outputs": [],
      "source": [
        "# Evaluar el modelo\n",
        "#best_model = grid_search.best_estimator_\n",
        "y_pred = random_search.predict(X_test_scaled)"
      ]
    },
    {
      "cell_type": "markdown",
      "metadata": {
        "id": "ADLg-jmIqS7L"
      },
      "source": [
        "#Validacion del modelo stacking"
      ]
    },
    {
      "cell_type": "code",
      "execution_count": null,
      "metadata": {
        "id": "ktj_Sm2yqRwD"
      },
      "outputs": [],
      "source": [
        "from sklearn.metrics import mean_squared_error, mean_absolute_error, mean_absolute_percentage_error\n",
        "# Calcular métricas de evaluación\n",
        "mse = mean_squared_error(y_test, y_pred)\n",
        "mae = mean_absolute_error(y_test, y_pred)\n",
        "mapeStacking = mean_absolute_percentage_error(y_test, y_pred)"
      ]
    },
    {
      "cell_type": "code",
      "execution_count": null,
      "metadata": {
        "colab": {
          "base_uri": "https://localhost:8080/"
        },
        "id": "vQ81-ty1qYXt",
        "outputId": "77801c7d-45cf-43d8-98f8-a3c17918288d"
      },
      "outputs": [
        {
          "output_type": "stream",
          "name": "stdout",
          "text": [
            "MSE: 136015.56970102168\n",
            "MAE: 61.714662835391664\n",
            "MAPE: 0.11680557648376302\n"
          ]
        }
      ],
      "source": [
        "print(f\"MSE: {mse}\")\n",
        "print(f\"MAE: {mae}\")\n",
        "print(f\"MAPE: {mapeStacking}\")"
      ]
    },
    {
      "cell_type": "code",
      "execution_count": null,
      "metadata": {
        "colab": {
          "base_uri": "https://localhost:8080/"
        },
        "id": "Q8fdQTF5_VVY",
        "outputId": "27a6ae08-9296-4b9f-bec9-b86ec64c1124"
      },
      "outputs": [
        {
          "output_type": "stream",
          "name": "stdout",
          "text": [
            "Drive already mounted at /content/drive; to attempt to forcibly remount, call drive.mount(\"/content/drive\", force_remount=True).\n"
          ]
        }
      ],
      "source": [
        "drive.mount('/content/drive')"
      ]
    },
    {
      "cell_type": "code",
      "execution_count": null,
      "metadata": {
        "id": "JUWV1VOyOEkX"
      },
      "outputs": [],
      "source": [
        "import joblib\n",
        "modelo_lineal_regression = joblib.load('/content/drive/MyDrive/model_linearRegression.pkl')"
      ]
    },
    {
      "cell_type": "markdown",
      "metadata": {
        "id": "7trpXXyMf_On"
      },
      "source": []
    },
    {
      "cell_type": "code",
      "execution_count": null,
      "metadata": {
        "id": "3DoNeBJjrmid"
      },
      "outputs": [],
      "source": [
        "\n",
        "modelo_random_forest = joblib.load('/content/drive/MyDrive/model_randomForestRegressor.pkl')"
      ]
    },
    {
      "cell_type": "code",
      "execution_count": null,
      "metadata": {
        "id": "-1ywOPG-rtSO"
      },
      "outputs": [],
      "source": [
        "modelo_svr = joblib.load('/content/drive/MyDrive/model_svr.pkl')"
      ]
    },
    {
      "cell_type": "code",
      "execution_count": null,
      "metadata": {
        "id": "ndGdtibNs7kB"
      },
      "outputs": [],
      "source": [
        "pred_lr = modelo_lineal_regression.predict(X_test_scaled)"
      ]
    },
    {
      "cell_type": "code",
      "execution_count": null,
      "metadata": {
        "collapsed": true,
        "id": "NzCsFyrNtXVB"
      },
      "outputs": [],
      "source": [
        "pred_rf = modelo_random_forest.predict(X_test_scaled)"
      ]
    },
    {
      "cell_type": "code",
      "execution_count": null,
      "metadata": {
        "collapsed": true,
        "id": "JkacS69KtraT"
      },
      "outputs": [],
      "source": [
        "pred_svr = modelo_random_forest.predict(X_test_scaled)"
      ]
    },
    {
      "cell_type": "code",
      "execution_count": null,
      "metadata": {
        "collapsed": true,
        "id": "f9ZTy5Yl9joF"
      },
      "outputs": [],
      "source": [
        "mapeLR = mean_absolute_percentage_error(y_test, pred_lr)\n",
        "mapeRF = mean_absolute_percentage_error(y_test, pred_rf)\n",
        "mape_svr = mean_absolute_percentage_error(y_test, pred_svr)"
      ]
    },
    {
      "cell_type": "code",
      "execution_count": null,
      "metadata": {
        "colab": {
          "base_uri": "https://localhost:8080/"
        },
        "id": "hm23Xjjd9ubB",
        "outputId": "1aed8bce-3be2-4259-b428-3393b1e80f17"
      },
      "outputs": [
        {
          "output_type": "stream",
          "name": "stdout",
          "text": [
            "mapeLR: 0.21888921084674048\n",
            "mapeRF: 0.06822791056691446\n",
            "mape_svr: 0.06822791056691446\n"
          ]
        }
      ],
      "source": [
        "print(f\"mapeLR: {mapeLR}\")\n",
        "print(f\"mapeRF: {mapeRF}\")\n",
        "print(f\"mape_svr: {mape_svr}\")"
      ]
    },
    {
      "cell_type": "code",
      "execution_count": null,
      "metadata": {
        "id": "Pqa4tkT2sBBg"
      },
      "outputs": [],
      "source": []
    },
    {
      "cell_type": "code",
      "execution_count": null,
      "metadata": {
        "id": "V2F_6FQSsHp9"
      },
      "outputs": [],
      "source": [
        "# Calcular las métricas para cada modelo\n",
        "metrics = {\n",
        "    \"Model\": [\"Stacking\", \"SVR\", \"Linear Regressor\", \"Random Forest Regressor\"],\n",
        "    \"MSE\": [\n",
        "        mean_squared_error(y_test, y_pred),\n",
        "        mean_squared_error(y_test, pred_lr),\n",
        "        mean_squared_error(y_test, pred_rf),\n",
        "        mean_squared_error(y_test, pred_svr)\n",
        "    ],\n",
        "    \"MAE\": [\n",
        "        mean_absolute_error(y_test, y_pred),\n",
        "        mean_absolute_error(y_test, pred_svr),\n",
        "        mean_absolute_error(y_test, pred_lr),\n",
        "        mean_absolute_error(y_test, pred_rf)\n",
        "    ],\n",
        "    \"MAPE\": [\n",
        "        mapeStacking,\n",
        "        mapeLR,\n",
        "        mapeRF,\n",
        "        mape_svr\n",
        "    ]\n",
        "}"
      ]
    },
    {
      "cell_type": "code",
      "execution_count": null,
      "metadata": {
        "colab": {
          "base_uri": "https://localhost:8080/"
        },
        "collapsed": true,
        "id": "1KjsY4IKsPTa",
        "outputId": "a840459e-cc1a-430e-c6c2-ab466a28c5f2"
      },
      "outputs": [
        {
          "output_type": "stream",
          "name": "stdout",
          "text": [
            "                     Model            MSE        MAE      MAPE\n",
            "0                 Stacking  136015.569701  61.714663  0.116806\n",
            "1                      SVR  196545.704960  42.403765  0.218889\n",
            "2         Linear Regressor   67862.589206  95.558535  0.068228\n",
            "3  Random Forest Regressor   67862.589206  42.403765  0.068228\n"
          ]
        }
      ],
      "source": [
        "# Crear un DataFrame con las métricas\n",
        "df_metrics = pd.DataFrame(metrics)\n",
        "\n",
        "# Mostrar el DataFrame\n",
        "print(df_metrics)"
      ]
    },
    {
      "cell_type": "code",
      "execution_count": null,
      "metadata": {
        "colab": {
          "base_uri": "https://localhost:8080/",
          "height": 335
        },
        "id": "Jeyv09NEsYfx",
        "outputId": "477fe0a0-5326-4f26-e402-d778b862db61"
      },
      "outputs": [
        {
          "output_type": "display_data",
          "data": {
            "text/plain": [
              "<Figure size 1800x500 with 3 Axes>"
            ],
            "image/png": "[encoded data removed]"
          },
          "metadata": {}
        }
      ],
      "source": [
        "# Crear gráficos de comparación\n",
        "fig, axes = plt.subplots(1, 3, figsize=(18, 5))\n",
        "\n",
        "# Gráfico de MSE\n",
        "axes[0].bar(df_metrics['Model'], df_metrics['MSE'], color='skyblue')\n",
        "axes[0].set_title('Comparación de MSE')\n",
        "axes[0].set_xlabel('Modelos')\n",
        "axes[0].set_ylabel('MSE')\n",
        "\n",
        "# Gráfico de MAE\n",
        "axes[1].bar(df_metrics['Model'], df_metrics['MAE'], color='lightgreen')\n",
        "axes[1].set_title('Comparación de MAE')\n",
        "axes[1].set_xlabel('Modelos')\n",
        "axes[1].set_ylabel('MAE')\n",
        "\n",
        "# Gráfico de MAPE\n",
        "axes[2].bar(df_metrics['Model'], df_metrics['MAPE'], color='salmon')\n",
        "axes[2].set_title('Comparación de MAPE')\n",
        "axes[2].set_xlabel('Modelos')\n",
        "axes[2].set_ylabel('MAPE (%)')\n",
        "\n",
        "plt.tight_layout()\n",
        "plt.show()"
      ]
    },
    {
      "cell_type": "markdown",
      "metadata": {
        "id": "FpNj0D_66jaY"
      },
      "source": [
        "#Generacion prediccion de CO2\n"
      ]
    },
    {
      "cell_type": "code",
      "execution_count": null,
      "metadata": {
        "id": "u4qzKv5EnemB"
      },
      "outputs": [],
      "source": [
        "dfnew = pd.read_excel(\"/content/drive/MyDrive/Data/data_1k_tesis_CO2.xlsx\")"
      ]
    },
    {
      "cell_type": "code",
      "execution_count": null,
      "metadata": {
        "colab": {
          "base_uri": "https://localhost:8080/"
        },
        "id": "VubsYPYlmT2t",
        "outputId": "23c6a876-57c7-456b-e193-57bfaa5959b0"
      },
      "outputs": [
        {
          "output_type": "stream",
          "name": "stdout",
          "text": [
            "Umbral de CO2 (datos filtrados): 545\n"
          ]
        }
      ],
      "source": [
        "# Eliminar valores de CO2 por encima de un límite superior\n",
        "upper_limit = 1000\n",
        "df_filtered = df[df['CO2 concentration in ppm'] <= upper_limit]\n",
        "# Recalcular la media y la desviación estándar con los datos filtrados\n",
        "mean_co2_filtered = df_filtered['CO2 concentration in ppm'].mean()\n",
        "std_co2_filtered = df_filtered['CO2 concentration in ppm'].std()\n",
        "\n",
        "# Definir el límite como un múltiplo de la desviación estándar por encima de la media\n",
        "limite_co2 = 545 #mean_co2_filtered + 2 * std_co2_filtered\n",
        "print(\"Umbral de CO2 (datos filtrados):\", limite_co2)"
      ]
    },
    {
      "cell_type": "code",
      "execution_count": null,
      "metadata": {
        "id": "DvIdD1DdnhUj",
        "colab": {
          "base_uri": "https://localhost:8080/"
        },
        "outputId": "2346af7a-75e5-4044-d7ba-b93722acc5b0"
      },
      "outputs": [
        {
          "output_type": "stream",
          "name": "stderr",
          "text": [
            "<ipython-input-38-de15a2c52ac8>:3: FutureWarning: 'H' is deprecated and will be removed in a future version, please use 'h' instead.\n",
            "  rango_fechas = pd.date_range(start=fecha_inicial, periods=len(dfnew), freq='H')\n"
          ]
        }
      ],
      "source": [
        "# Fecha y hora inicial\n",
        "fecha_inicial = pd.Timestamp('2022-04-20 14:15:00')\n",
        "rango_fechas = pd.date_range(start=fecha_inicial, periods=len(dfnew), freq='H')\n",
        "year = fecha_inicial.year\n",
        "month = fecha_inicial.month\n",
        "day = fecha_inicial.day\n",
        "hour = fecha_inicial.hour"
      ]
    },
    {
      "cell_type": "code",
      "execution_count": null,
      "metadata": {
        "id": "yVrsFZgBOApY"
      },
      "outputs": [],
      "source": [
        "# Verificar y convertir las columnas a string si no lo son, luego reemplazar comas y convertir a float\n",
        "def clean_and_convert(column):\n",
        "    return pd.to_numeric(column.astype(str).str.replace(',', '.'), errors='coerce').apply(lambda x: max(0, x))"
      ]
    },
    {
      "cell_type": "code",
      "execution_count": null,
      "metadata": {
        "id": "cXEZ2C2Qqsor"
      },
      "outputs": [],
      "source": [
        "# Convertir a numérico y manejar los valores negativos en 'Temperature', 'Humidity' y 'Light intensity'\n",
        "dfnew['Temperature'] = clean_and_convert(dfnew['Temperature'])\n",
        "dfnew['Humidity'] = clean_and_convert(dfnew['Humidity'])\n",
        "dfnew['Light intensity'] = clean_and_convert(dfnew['Light intensity'])"
      ]
    },
    {
      "cell_type": "code",
      "execution_count": null,
      "metadata": {
        "id": "zZWLJfqvH18V"
      },
      "outputs": [],
      "source": [
        "# Función para predecir el CO2 para una fecha y hora específicas # SAVE CODIGO ORIGINAL\n",
        "def predecir_co2_para_fecha(modelo, year, month, day, hour, temp, humidity, light_intensity):\n",
        "    # Crear un DataFrame con los datos de entrada\n",
        "    data = pd.DataFrame({\n",
        "        'Year': [year] * len(temp),\n",
        "        'Month': [month] * len(temp),\n",
        "        'Day': [day] * len(temp),\n",
        "        'Hour': [hour] * len(temp),\n",
        "        'Temperature': temp,\n",
        "        'Humidity': humidity,\n",
        "        'Light intensity': light_intensity\n",
        "    })\n",
        "    # Realizar la predicción\n",
        "    prediccion = modelo.predict(data)\n",
        "    return prediccion"
      ]
    },
    {
      "cell_type": "code",
      "execution_count": null,
      "metadata": {
        "id": "8JPZoaPjnlDy"
      },
      "outputs": [],
      "source": [
        "# Función para predecir el CO2 para una fecha y hora específicas ## NUEVO\n",
        "# def predecir_co2_para_fecha(modelo, year, month, day, hour, temp, humidity, light_intensity):\n",
        "#     # Crear un DataFrame con los datos de entrada\n",
        "#     data = pd.DataFrame({\n",
        "#         'Year': [year] * len(temp),\n",
        "#         'Month': [month] * len(temp),\n",
        "#         'Day': [day] * len(temp),\n",
        "#         'Hour': [hour] * len(temp),\n",
        "#         'Temperature': temp,\n",
        "#         'Humidity': humidity,\n",
        "#         'Light intensity': light_intensity,\n",
        "#         'Feature_8': temp,  # Removed the nested list creation\n",
        "#         'Feature_9': humidity,  # Removed the nested list creation\n",
        "#         'Feature_10': light_intensity  # Removed the nested list creation\n",
        "#     })\n",
        "#     # Realizar la predicción\n",
        "#     prediccion = modelo.predict(data)\n",
        "#     return prediccion"
      ]
    },
    {
      "cell_type": "code",
      "execution_count": null,
      "metadata": {
        "colab": {
          "base_uri": "https://localhost:8080/"
        },
        "id": "IebHGL16nnGq",
        "outputId": "cf346f2d-b0a5-4354-feef-0e8e41822b5b"
      },
      "outputs": [
        {
          "output_type": "stream",
          "name": "stderr",
          "text": [
            "/usr/local/lib/python3.10/dist-packages/sklearn/base.py:486: UserWarning: X has feature names, but RandomForestRegressor was fitted without feature names\n",
            "  warnings.warn(\n",
            "/usr/local/lib/python3.10/dist-packages/sklearn/base.py:486: UserWarning: X has feature names, but LinearRegression was fitted without feature names\n",
            "  warnings.warn(\n",
            "/usr/local/lib/python3.10/dist-packages/sklearn/base.py:486: UserWarning: X has feature names, but SVR was fitted without feature names\n",
            "  warnings.warn(\n",
            "/usr/local/lib/python3.10/dist-packages/sklearn/base.py:486: UserWarning: X has feature names, but Lasso was fitted without feature names\n",
            "  warnings.warn(\n",
            "/usr/local/lib/python3.10/dist-packages/sklearn/base.py:486: UserWarning: X has feature names, but Ridge was fitted without feature names\n",
            "  warnings.warn(\n",
            "/usr/local/lib/python3.10/dist-packages/sklearn/base.py:486: UserWarning: X has feature names, but ElasticNet was fitted without feature names\n",
            "  warnings.warn(\n",
            "/usr/local/lib/python3.10/dist-packages/sklearn/base.py:486: UserWarning: X has feature names, but GradientBoostingRegressor was fitted without feature names\n",
            "  warnings.warn(\n",
            "/usr/local/lib/python3.10/dist-packages/sklearn/base.py:486: UserWarning: X has feature names, but AdaBoostRegressor was fitted without feature names\n",
            "  warnings.warn(\n"
          ]
        }
      ],
      "source": [
        "# Predicción de CO2 para la fecha y hora inicial\n",
        "prediccion_inicial = predecir_co2_para_fecha(random_search, year, month, day, hour, dfnew['Temperature'], dfnew['Humidity'], dfnew['Light intensity'])"
      ]
    },
    {
      "cell_type": "code",
      "execution_count": null,
      "metadata": {
        "id": "RlJjfN-enqQr"
      },
      "outputs": [],
      "source": [
        "# Incrementar la hora\n",
        "fecha_siguiente_hora = fecha_inicial + pd.Timedelta(hours=2)"
      ]
    },
    {
      "cell_type": "code",
      "execution_count": null,
      "metadata": {
        "id": "3xQtaxp_nrnc"
      },
      "outputs": [],
      "source": [
        "# Extraer año, mes, día y hora de la siguiente hora\n",
        "year = fecha_siguiente_hora.year\n",
        "month = fecha_siguiente_hora.month\n",
        "day = fecha_siguiente_hora.day\n",
        "hour = fecha_siguiente_hora.hour"
      ]
    },
    {
      "cell_type": "code",
      "execution_count": null,
      "metadata": {
        "colab": {
          "base_uri": "https://localhost:8080/"
        },
        "id": "0c1TsgGunr-j",
        "outputId": "80c17186-e8be-494e-d4e7-1bbd2401c140"
      },
      "outputs": [
        {
          "output_type": "stream",
          "name": "stderr",
          "text": [
            "/usr/local/lib/python3.10/dist-packages/sklearn/base.py:486: UserWarning: X has feature names, but RandomForestRegressor was fitted without feature names\n",
            "  warnings.warn(\n",
            "/usr/local/lib/python3.10/dist-packages/sklearn/base.py:486: UserWarning: X has feature names, but LinearRegression was fitted without feature names\n",
            "  warnings.warn(\n",
            "/usr/local/lib/python3.10/dist-packages/sklearn/base.py:486: UserWarning: X has feature names, but SVR was fitted without feature names\n",
            "  warnings.warn(\n",
            "/usr/local/lib/python3.10/dist-packages/sklearn/base.py:486: UserWarning: X has feature names, but Lasso was fitted without feature names\n",
            "  warnings.warn(\n",
            "/usr/local/lib/python3.10/dist-packages/sklearn/base.py:486: UserWarning: X has feature names, but Ridge was fitted without feature names\n",
            "  warnings.warn(\n",
            "/usr/local/lib/python3.10/dist-packages/sklearn/base.py:486: UserWarning: X has feature names, but ElasticNet was fitted without feature names\n",
            "  warnings.warn(\n",
            "/usr/local/lib/python3.10/dist-packages/sklearn/base.py:486: UserWarning: X has feature names, but GradientBoostingRegressor was fitted without feature names\n",
            "  warnings.warn(\n",
            "/usr/local/lib/python3.10/dist-packages/sklearn/base.py:486: UserWarning: X has feature names, but AdaBoostRegressor was fitted without feature names\n",
            "  warnings.warn(\n"
          ]
        }
      ],
      "source": [
        "# Predicción de CO2 para la siguiente hora\n",
        "prediccion_siguiente_hora = predecir_co2_para_fecha(random_search, year, month, day, hour, dfnew['Temperature'], dfnew['Humidity'], dfnew['Light intensity'])"
      ]
    },
    {
      "cell_type": "code",
      "execution_count": null,
      "metadata": {
        "colab": {
          "base_uri": "https://localhost:8080/"
        },
        "id": "gUkPpuQSnud6",
        "outputId": "84a24f8c-e8dd-4271-a3c6-9548cda3c12d"
      },
      "outputs": [
        {
          "output_type": "stream",
          "name": "stdout",
          "text": [
            "El valor de predicción para la siguiente hora es el mismo.\n"
          ]
        }
      ],
      "source": [
        "# Comparar las predicciones\n",
        "# Calcular la media de los valores predichos\n",
        "prediccion_inicial = np.mean(prediccion_inicial)\n",
        "prediccion_siguiente_hora = np.mean(prediccion_siguiente_hora)\n",
        "# print(f\"Predicción de CO2 para la fecha y hora inicial: {prediccion_inicial}\")\n",
        "# print(f\"Predicción de CO2 para la siguiente hora: {prediccion_siguiente_hora}\")\n",
        "if prediccion_inicial == prediccion_siguiente_hora:\n",
        "    print(\"El valor de predicción para la siguiente hora es el mismo.\")\n",
        "else:\n",
        "    print(\"El valor de predicción para la siguiente hora ha cambiado.\")"
      ]
    },
    {
      "cell_type": "code",
      "execution_count": null,
      "metadata": {
        "id": "7yiGZ6_pq_Co"
      },
      "outputs": [],
      "source": [
        "# Crear una lista con las predicciones\n",
        "predicciones = [prediccion_inicial, prediccion_siguiente_hora]\n",
        "labels = [f'Fecha: {fecha_inicial}', f'Fecha: {fecha_siguiente_hora}']"
      ]
    },
    {
      "cell_type": "code",
      "execution_count": null,
      "metadata": {
        "colab": {
          "base_uri": "https://localhost:8080/",
          "height": 565
        },
        "id": "cDD4CDzcIXK1",
        "outputId": "e65cb052-48b8-4a03-93d7-eac83927f511"
      },
      "outputs": [
        {
          "output_type": "display_data",
          "data": {
            "text/plain": [
              "<Figure size 800x600 with 1 Axes>"
            ],
            "image/png": "[encoded data removed]"
          },
          "metadata": {}
        }
      ],
      "source": [
        "# Crear el gráfico de barras ## NUEVO\n",
        "plt.figure(figsize=(8, 6))\n",
        "bars = plt.bar(labels, predicciones, color=['blue', 'green'], width=0.6)\n",
        "\n",
        "# Añadir etiquetas a las barras\n",
        "for bar in bars:\n",
        "    yval = bar.get_height()\n",
        "    plt.text(bar.get_x() + bar.get_width() / 2, yval, f'{yval:.2f}', ha='center', va='bottom', fontsize=12)\n",
        "\n",
        "# Configurar las etiquetas y el título del gráfico\n",
        "plt.xlabel('Predicciones')\n",
        "plt.ylabel('Valor de CO2 Predicho (ppm)')\n",
        "plt.title('Comparación de Predicciones de CO2')\n",
        "# Mostrar el gráfico\n",
        "plt.show()\n"
      ]
    },
    {
      "cell_type": "code",
      "execution_count": null,
      "metadata": {
        "colab": {
          "base_uri": "https://localhost:8080/",
          "height": 565
        },
        "id": "tauwbTTNrHDh",
        "outputId": "c2dbb1f2-e1b2-4d73-e8d3-2f006636b37e"
      },
      "outputs": [
        {
          "output_type": "display_data",
          "data": {
            "text/plain": [
              "<Figure size 800x600 with 1 Axes>"
            ],
            "image/png": "[encoded data removed]"
          },
          "metadata": {}
        }
      ],
      "source": [
        "# Crear el gráfico de barras\n",
        "plt.figure(figsize=(8, 6))\n",
        "bars = plt.bar(labels, predicciones, color=['blue', 'green'], width=0.6)\n",
        "\n",
        "# Añadir etiquetas a las barras\n",
        "for bar in bars:\n",
        "    yval = bar.get_height()\n",
        "    plt.text(bar.get_x() + bar.get_width() / 2, yval, f'{yval:.2f}', ha='center', va='bottom', fontsize=12)\n",
        "\n",
        "# Configurar las etiquetas y el título del gráfico\n",
        "plt.xlabel('Predicciones')\n",
        "plt.ylabel('Valor de CO2 Predicho (ppm)')\n",
        "plt.title('Comparación de Predicciones de CO2')\n",
        "# Mostrar el gráfico\n",
        "plt.show()\n"
      ]
    },
    {
      "cell_type": "code",
      "execution_count": null,
      "metadata": {
        "colab": {
          "base_uri": "https://localhost:8080/"
        },
        "id": "RHxQX95EwHwZ",
        "outputId": "5b6ddfce-a4e9-4ebd-fac9-b3014e235228"
      },
      "outputs": [
        {
          "output_type": "stream",
          "name": "stdout",
          "text": [
            "2022-04-20 14:00:00\n",
            "2022-04-21 00:00:00\n",
            "[Timestamp('2022-04-20 14:00:00'), Timestamp('2022-04-20 16:00:00'), Timestamp('2022-04-20 18:00:00'), Timestamp('2022-04-20 20:00:00'), Timestamp('2022-04-20 22:00:00')]\n"
          ]
        }
      ],
      "source": [
        "horas_del_dia = []\n",
        "hora_actual = fecha_inicial.replace(minute=0, second=0, microsecond=0)\n",
        "print(hora_actual)\n",
        "# Agregar horas hasta llegar a la medianoche del mismo día\n",
        "while hora_actual.hour != 0 and hora_actual.day == fecha_inicial.day:  # Asegurarse de que no exceda la medianoche\n",
        "    horas_del_dia.append(hora_actual)  # Agregar la hora actual\n",
        "    hora_actual += pd.Timedelta(hours=2)  # Incrementar en 4 horas\n",
        "\n",
        "print(hora_actual)\n",
        "print(horas_del_dia)"
      ]
    },
    {
      "cell_type": "code",
      "execution_count": null,
      "metadata": {
        "id": "GmShR7e43uUK"
      },
      "outputs": [],
      "source": [
        "# Obtener las horas del día como string en formato HH:MM:SS\n",
        "horas_del_dia_str = []\n",
        "for hora in horas_del_dia:\n",
        "    if hora.hour < 12:\n",
        "        horas_del_dia_str.append(hora.strftime('%I:%M %p'))  # Formato de 12 horas con AM/PM para horas antes de las 12 pm\n",
        "    else:\n",
        "        horas_del_dia_str.append(hora.strftime('%H:%M %p'))  # Formato de 24 horas con AM/PM para horas después de las 12 pm"
      ]
    },
    {
      "cell_type": "code",
      "execution_count": null,
      "metadata": {
        "colab": {
          "base_uri": "https://localhost:8080/"
        },
        "id": "MtJl1DEe0fYz",
        "outputId": "8ff6ce4f-7991-4d7f-964a-ef6f287fb2b0"
      },
      "outputs": [
        {
          "output_type": "stream",
          "name": "stderr",
          "text": [
            "/usr/local/lib/python3.10/dist-packages/sklearn/base.py:486: UserWarning: X has feature names, but RandomForestRegressor was fitted without feature names\n",
            "  warnings.warn(\n",
            "/usr/local/lib/python3.10/dist-packages/sklearn/base.py:486: UserWarning: X has feature names, but LinearRegression was fitted without feature names\n",
            "  warnings.warn(\n",
            "/usr/local/lib/python3.10/dist-packages/sklearn/base.py:486: UserWarning: X has feature names, but SVR was fitted without feature names\n",
            "  warnings.warn(\n",
            "/usr/local/lib/python3.10/dist-packages/sklearn/base.py:486: UserWarning: X has feature names, but Lasso was fitted without feature names\n",
            "  warnings.warn(\n",
            "/usr/local/lib/python3.10/dist-packages/sklearn/base.py:486: UserWarning: X has feature names, but Ridge was fitted without feature names\n",
            "  warnings.warn(\n",
            "/usr/local/lib/python3.10/dist-packages/sklearn/base.py:486: UserWarning: X has feature names, but ElasticNet was fitted without feature names\n",
            "  warnings.warn(\n",
            "/usr/local/lib/python3.10/dist-packages/sklearn/base.py:486: UserWarning: X has feature names, but GradientBoostingRegressor was fitted without feature names\n",
            "  warnings.warn(\n",
            "/usr/local/lib/python3.10/dist-packages/sklearn/base.py:486: UserWarning: X has feature names, but AdaBoostRegressor was fitted without feature names\n",
            "  warnings.warn(\n",
            "/usr/local/lib/python3.10/dist-packages/sklearn/base.py:486: UserWarning: X has feature names, but RandomForestRegressor was fitted without feature names\n",
            "  warnings.warn(\n",
            "/usr/local/lib/python3.10/dist-packages/sklearn/base.py:486: UserWarning: X has feature names, but LinearRegression was fitted without feature names\n",
            "  warnings.warn(\n",
            "/usr/local/lib/python3.10/dist-packages/sklearn/base.py:486: UserWarning: X has feature names, but SVR was fitted without feature names\n",
            "  warnings.warn(\n",
            "/usr/local/lib/python3.10/dist-packages/sklearn/base.py:486: UserWarning: X has feature names, but Lasso was fitted without feature names\n",
            "  warnings.warn(\n",
            "/usr/local/lib/python3.10/dist-packages/sklearn/base.py:486: UserWarning: X has feature names, but Ridge was fitted without feature names\n",
            "  warnings.warn(\n",
            "/usr/local/lib/python3.10/dist-packages/sklearn/base.py:486: UserWarning: X has feature names, but ElasticNet was fitted without feature names\n",
            "  warnings.warn(\n",
            "/usr/local/lib/python3.10/dist-packages/sklearn/base.py:486: UserWarning: X has feature names, but GradientBoostingRegressor was fitted without feature names\n",
            "  warnings.warn(\n",
            "/usr/local/lib/python3.10/dist-packages/sklearn/base.py:486: UserWarning: X has feature names, but AdaBoostRegressor was fitted without feature names\n",
            "  warnings.warn(\n",
            "/usr/local/lib/python3.10/dist-packages/sklearn/base.py:486: UserWarning: X has feature names, but RandomForestRegressor was fitted without feature names\n",
            "  warnings.warn(\n",
            "/usr/local/lib/python3.10/dist-packages/sklearn/base.py:486: UserWarning: X has feature names, but LinearRegression was fitted without feature names\n",
            "  warnings.warn(\n",
            "/usr/local/lib/python3.10/dist-packages/sklearn/base.py:486: UserWarning: X has feature names, but SVR was fitted without feature names\n",
            "  warnings.warn(\n",
            "/usr/local/lib/python3.10/dist-packages/sklearn/base.py:486: UserWarning: X has feature names, but Lasso was fitted without feature names\n",
            "  warnings.warn(\n",
            "/usr/local/lib/python3.10/dist-packages/sklearn/base.py:486: UserWarning: X has feature names, but Ridge was fitted without feature names\n",
            "  warnings.warn(\n",
            "/usr/local/lib/python3.10/dist-packages/sklearn/base.py:486: UserWarning: X has feature names, but ElasticNet was fitted without feature names\n",
            "  warnings.warn(\n",
            "/usr/local/lib/python3.10/dist-packages/sklearn/base.py:486: UserWarning: X has feature names, but GradientBoostingRegressor was fitted without feature names\n",
            "  warnings.warn(\n",
            "/usr/local/lib/python3.10/dist-packages/sklearn/base.py:486: UserWarning: X has feature names, but AdaBoostRegressor was fitted without feature names\n",
            "  warnings.warn(\n",
            "/usr/local/lib/python3.10/dist-packages/sklearn/base.py:486: UserWarning: X has feature names, but RandomForestRegressor was fitted without feature names\n",
            "  warnings.warn(\n",
            "/usr/local/lib/python3.10/dist-packages/sklearn/base.py:486: UserWarning: X has feature names, but LinearRegression was fitted without feature names\n",
            "  warnings.warn(\n",
            "/usr/local/lib/python3.10/dist-packages/sklearn/base.py:486: UserWarning: X has feature names, but SVR was fitted without feature names\n",
            "  warnings.warn(\n",
            "/usr/local/lib/python3.10/dist-packages/sklearn/base.py:486: UserWarning: X has feature names, but Lasso was fitted without feature names\n",
            "  warnings.warn(\n",
            "/usr/local/lib/python3.10/dist-packages/sklearn/base.py:486: UserWarning: X has feature names, but Ridge was fitted without feature names\n",
            "  warnings.warn(\n",
            "/usr/local/lib/python3.10/dist-packages/sklearn/base.py:486: UserWarning: X has feature names, but ElasticNet was fitted without feature names\n",
            "  warnings.warn(\n",
            "/usr/local/lib/python3.10/dist-packages/sklearn/base.py:486: UserWarning: X has feature names, but GradientBoostingRegressor was fitted without feature names\n",
            "  warnings.warn(\n",
            "/usr/local/lib/python3.10/dist-packages/sklearn/base.py:486: UserWarning: X has feature names, but AdaBoostRegressor was fitted without feature names\n",
            "  warnings.warn(\n",
            "/usr/local/lib/python3.10/dist-packages/sklearn/base.py:486: UserWarning: X has feature names, but RandomForestRegressor was fitted without feature names\n",
            "  warnings.warn(\n",
            "/usr/local/lib/python3.10/dist-packages/sklearn/base.py:486: UserWarning: X has feature names, but LinearRegression was fitted without feature names\n",
            "  warnings.warn(\n",
            "/usr/local/lib/python3.10/dist-packages/sklearn/base.py:486: UserWarning: X has feature names, but SVR was fitted without feature names\n",
            "  warnings.warn(\n",
            "/usr/local/lib/python3.10/dist-packages/sklearn/base.py:486: UserWarning: X has feature names, but Lasso was fitted without feature names\n",
            "  warnings.warn(\n",
            "/usr/local/lib/python3.10/dist-packages/sklearn/base.py:486: UserWarning: X has feature names, but Ridge was fitted without feature names\n",
            "  warnings.warn(\n",
            "/usr/local/lib/python3.10/dist-packages/sklearn/base.py:486: UserWarning: X has feature names, but ElasticNet was fitted without feature names\n",
            "  warnings.warn(\n",
            "/usr/local/lib/python3.10/dist-packages/sklearn/base.py:486: UserWarning: X has feature names, but GradientBoostingRegressor was fitted without feature names\n",
            "  warnings.warn(\n",
            "/usr/local/lib/python3.10/dist-packages/sklearn/base.py:486: UserWarning: X has feature names, but AdaBoostRegressor was fitted without feature names\n",
            "  warnings.warn(\n"
          ]
        }
      ],
      "source": [
        "# realizo las predicciones y agrego al array\n",
        "predicciones_por_hora = []\n",
        "for hora in horas_del_dia:\n",
        "    prediccion = predecir_co2_para_fecha(random_search, year, month, day, hora.hour, dfnew['Temperature'], dfnew['Humidity'], dfnew['Light intensity'])\n",
        "    predicciones_por_hora.append(prediccion.mean())  # Si obtienes múltiples predicciones, puedes promediarlas"
      ]
    },
    {
      "cell_type": "markdown",
      "metadata": {
        "id": "Mp8BQ_JwHa0q"
      },
      "source": [
        "#PREDICCION EN TIEMPO REAL"
      ]
    },
    {
      "cell_type": "code",
      "execution_count": null,
      "metadata": {
        "colab": {
          "base_uri": "https://localhost:8080/",
          "height": 607
        },
        "id": "q2-bwxnRIqZX",
        "outputId": "6ad6d74f-ee71-4d9a-8373-1b4639538d18"
      },
      "outputs": [
        {
          "output_type": "display_data",
          "data": {
            "text/plain": [
              "<Figure size 800x600 with 1 Axes>"
            ],
            "image/png": "[encoded data removed]"
          },
          "metadata": {}
        }
      ],
      "source": [
        "# Crear el gráfico de líneas ## NUEVO\n",
        "plt.figure(figsize=(8, 6))\n",
        "plt.plot(horas_del_dia_str, predicciones_por_hora, marker='o', linestyle='-')\n",
        "# MODIFICAR HORARIO DE TURNO SEGUN JORNADA LABORAL  //Agregar etiquetas con el valor de las predicciones en cada punto del gráfico\n",
        "for x, y in zip(horas_del_dia_str, predicciones_por_hora):\n",
        "    plt.text(x, y, f'{y:.2f}', ha='center', va='bottom', fontsize=10)\n",
        "# Configurar las etiquetas y el título del gráfico\n",
        "plt.xlabel('Hora del día')\n",
        "plt.ylabel('Predicciones de CO2')\n",
        "plt.title('Predicciones de CO2 a lo largo del día - {}'.format(fecha_inicial.strftime('%Y-%m-%d')))\n",
        "\n",
        "# Mostrar el gráfico\n",
        "plt.grid(True)\n",
        "plt.xticks(rotation=45)  # Rotar etiquetas del eje x para mejor legibilidad\n",
        "plt.tight_layout()\n",
        "plt.show()"
      ]
    },
    {
      "cell_type": "code",
      "execution_count": null,
      "metadata": {
        "colab": {
          "base_uri": "https://localhost:8080/",
          "height": 607
        },
        "id": "lI3ayCKwwMBL",
        "outputId": "0749a732-b7b5-4486-e50b-23144c8fdbc3"
      },
      "outputs": [
        {
          "output_type": "display_data",
          "data": {
            "text/plain": [
              "<Figure size 800x600 with 1 Axes>"
            ],
            "image/png": "[encoded data removed]"
          },
          "metadata": {}
        }
      ],
      "source": [
        "# Crear el gráfico de líneas  ##SAVE CODIGO ORIGINAL\n",
        "plt.figure(figsize=(8, 6))\n",
        "plt.plot(horas_del_dia_str, predicciones_por_hora, marker='o', linestyle='-')\n",
        "# MODIFICAR HORARIO DE TURNO SEGUN JORNADA LABORAL  //Agregar etiquetas con el valor de las predicciones en cada punto del gráfico\n",
        "for x, y in zip(horas_del_dia_str, predicciones_por_hora):\n",
        "    plt.text(x, y, f'{y:.2f}', ha='center', va='bottom', fontsize=10)\n",
        "# Configurar las etiquetas y el título del gráfico\n",
        "plt.xlabel('Hora del día')\n",
        "plt.ylabel('Predicciones de CO2')\n",
        "plt.title('Predicciones de CO2 a lo largo del día - {}'.format(fecha_inicial.strftime('%Y-%m-%d')))\n",
        "\n",
        "# Mostrar el gráfico\n",
        "plt.grid(True)\n",
        "plt.xticks(rotation=45)  # Rotar etiquetas del eje x para mejor legibilidad\n",
        "plt.tight_layout()\n",
        "plt.show()"
      ]
    },
    {
      "cell_type": "markdown",
      "metadata": {
        "id": "XaMgfFCXE3dj"
      },
      "source": [
        "#SIMULACIONES DE EMERGENCIA\n",
        "\n"
      ]
    },
    {
      "cell_type": "code",
      "source": [],
      "metadata": {
        "id": "ze57Tdxfj5UR"
      },
      "execution_count": null,
      "outputs": []
    },
    {
      "cell_type": "code",
      "execution_count": null,
      "metadata": {
        "colab": {
          "base_uri": "https://localhost:8080/",
          "height": 624
        },
        "id": "2T7T0VmuI08P",
        "outputId": "e26a95c4-74df-45f3-bcbe-c539475e0e58"
      },
      "outputs": [
        {
          "output_type": "stream",
          "name": "stdout",
          "text": [
            "545\n"
          ]
        },
        {
          "output_type": "display_data",
          "data": {
            "text/plain": [
              "<Figure size 800x600 with 1 Axes>"
            ],
            "image/png": "[encoded data removed]"
          },
          "metadata": {}
        }
      ],
      "source": [
        "## Crear el gráfico de barras con colores específicos ##NUEVO\n",
        "print(limite_co2)\n",
        "colores = ['red' if pred > limite_co2 else 'green' for pred in predicciones_por_hora]\n",
        "plt.figure(figsize=(8, 6))\n",
        "barras = plt.bar(horas_del_dia_str, predicciones_por_hora, color=colores)\n",
        "# Agregar etiquetas con el valor de las predicciones en cada barra del gráfico\n",
        "for barra, pred in zip(barras, predicciones_por_hora):\n",
        "    altura = barra.get_height()\n",
        "    if pred > limite_co2:\n",
        "        plt.text(barra.get_x() + barra.get_width() / 2, altura - 3, f'{pred:.2f}\\nCO2 Peligroso', ha='center', va='bottom', fontsize=10, color='red')\n",
        "    else:\n",
        "        plt.text(barra.get_x() + barra.get_width() / 2, altura - 3, f'{pred:.2f}\\nCO2 Seguro', ha='center', va='bottom', fontsize=10, color='green')\n",
        "# Configurar las etiquetas y el título del gráfico\n",
        "plt.xlabel('Hora del día')\n",
        "plt.ylabel('Predicciones de CO2')\n",
        "plt.title('Predicciones de CO2 a lo largo del día - {}'.format(fecha_inicial.strftime('%Y-%m-%d')))\n",
        "\n",
        "# Ajustar los límites del eje y para que el gráfico no sea muy alto\n",
        "plt.ylim(0, max(predicciones_por_hora) * 1.1)\n",
        "\n",
        "# Mostrar el gráfico\n",
        "plt.grid(True)\n",
        "plt.xticks(rotation=45)  # Rotar etiquetas del eje x para mejor legibilidad\n",
        "plt.tight_layout()\n",
        "plt.show()"
      ]
    },
    {
      "cell_type": "code",
      "execution_count": null,
      "metadata": {
        "colab": {
          "base_uri": "https://localhost:8080/",
          "height": 624
        },
        "id": "8J62LjbZkEje",
        "outputId": "4671b17b-c226-4676-b836-37e98f459101"
      },
      "outputs": [
        {
          "output_type": "stream",
          "name": "stdout",
          "text": [
            "545\n"
          ]
        },
        {
          "output_type": "display_data",
          "data": {
            "text/plain": [
              "<Figure size 800x600 with 1 Axes>"
            ],
            "image/png": "[encoded data removed]"
          },
          "metadata": {}
        }
      ],
      "source": [
        "## Crear el gráfico de barras con colores específicos ##PREDICCION\n",
        "print(limite_co2)\n",
        "colores = ['red' if pred > limite_co2 else 'green' for pred in predicciones_por_hora]\n",
        "plt.figure(figsize=(8, 6))\n",
        "barras = plt.bar(horas_del_dia_str, predicciones_por_hora, color=colores)\n",
        "# Agregar etiquetas con el valor de las predicciones en cada barra del gráfico\n",
        "for barra, pred in zip(barras, predicciones_por_hora):\n",
        "    altura = barra.get_height()\n",
        "    if pred > limite_co2:\n",
        "        plt.text(barra.get_x() + barra.get_width() / 2, altura - 3, f'{pred:.2f}\\nCO2 Peligroso', ha='center', va='bottom', fontsize=10, color='red')\n",
        "    else:\n",
        "        plt.text(barra.get_x() + barra.get_width() / 2, altura - 3, f'{pred:.2f}\\nCO2 Seguro', ha='center', va='bottom', fontsize=10, color='green')\n",
        "# Configurar las etiquetas y el título del gráfico\n",
        "plt.xlabel('Hora del día')\n",
        "plt.ylabel('Predicciones de CO2')\n",
        "plt.title('Predicciones de CO2 a lo largo del día - {}'.format(fecha_inicial.strftime('%Y-%m-%d')))\n",
        "\n",
        "# Ajustar los límites del eje y para que el gráfico no sea muy alto\n",
        "plt.ylim(0, max(predicciones_por_hora) * 1.1)\n",
        "\n",
        "# Mostrar el gráfico\n",
        "plt.grid(True)\n",
        "plt.xticks(rotation=45)  # Rotar etiquetas del eje x para mejor legibilidad\n",
        "plt.tight_layout()\n",
        "plt.show()"
      ]
    },
    {
      "cell_type": "code",
      "execution_count": null,
      "metadata": {
        "id": "s3n_95ESpxJr"
      },
      "outputs": [],
      "source": [
        "categorias_reales = dfnew['CO2 concentration in ppm']"
      ]
    },
    {
      "cell_type": "code",
      "execution_count": null,
      "metadata": {
        "colab": {
          "base_uri": "https://localhost:8080/",
          "height": 412
        },
        "id": "LCVcQ6ByqqhX",
        "outputId": "ff53b44a-c31c-4cae-bf9b-5851070ab67f"
      },
      "outputs": [
        {
          "output_type": "display_data",
          "data": {
            "text/plain": [
              "<Figure size 640x480 with 2 Axes>"
            ],
            "image/png": "[encoded data removed]"
          },
          "metadata": {}
        }
      ],
      "source": [
        "import numpy as np\n",
        "import matplotlib.pyplot as plt\n",
        "predicciones_correctas = {'Bajo': 50, 'Normal': 30, 'Alto': 20}\n",
        "predicciones_incorrectas = {'Bajo': 10, 'Normal': 15, 'Alto': 2}\n",
        "\n",
        "# Obtener las etiquetas y los valores de cada categoría\n",
        "categorias = list(predicciones_correctas.keys())\n",
        "correctas = np.array([predicciones_correctas[categoria] for categoria in categorias])\n",
        "incorrectas = np.array([predicciones_incorrectas[categoria] for categoria in categorias])\n",
        "\n",
        "# Crear la matriz de confusión modificada para mostrar los conteos de predicciones correctas e incorrectas\n",
        "matriz_confusion = np.vstack((correctas, incorrectas))\n",
        "\n",
        "# Visualizar la matriz de confusión\n",
        "plt.imshow(matriz_confusion, cmap='Blues')\n",
        "\n",
        "# Mostrar las etiquetas\n",
        "plt.xticks(np.arange(len(categorias)), categorias)\n",
        "plt.yticks([0, 1], ['Predicciones Correctas', 'Predicciones Incorrectas'])\n",
        "plt.xlabel('Categorías de CO2')\n",
        "plt.ylabel('Predicciones')\n",
        "\n",
        "# Agregar los valores dentro de cada celda\n",
        "for i in range(len(categorias)):\n",
        "    for j in range(2):\n",
        "        plt.text(i, j, matriz_confusion[j, i], ha='center', va='center', color='black')\n",
        "\n",
        "# Mostrar el gráfico\n",
        "plt.title('Matriz de Confusión de Predicciones de CO2')\n",
        "plt.colorbar(label='Cantidad de Predicciones')\n",
        "plt.show()\n"
      ]
    },
    {
      "cell_type": "markdown",
      "source": [
        "#DESPLIEGUE DE LA APLICACION WEB"
      ],
      "metadata": {
        "id": "XiXu3j2mZERH"
      }
    },
    {
      "cell_type": "code",
      "source": [
        "#Instalacion del StreamLit\n",
        "!pip install streamlit pandas numpy scikit-learn xgboost matplotlib joblib"
      ],
      "metadata": {
        "colab": {
          "base_uri": "https://localhost:8080/"
        },
        "collapsed": true,
        "id": "HLdPIqW2ghHr",
        "outputId": "a08d6529-5c79-4a24-9c37-594d105d7b6c"
      },
      "execution_count": null,
      "outputs": [
        {
          "output_type": "stream",
          "name": "stdout",
          "text": [
            "Collecting streamlit\n",
            "  Downloading streamlit-1.39.0-py2.py3-none-any.whl.metadata (8.5 kB)\n",
            "Requirement already satisfied: pandas in /usr/local/lib/python3.10/dist-packages (2.2.2)\n",
            "Requirement already satisfied: numpy in /usr/local/lib/python3.10/dist-packages (1.26.4)\n",
            "Requirement already satisfied: scikit-learn in /usr/local/lib/python3.10/dist-packages (1.5.2)\n",
            "Requirement already satisfied: xgboost in /usr/local/lib/python3.10/dist-packages (2.1.2)\n",
            "Requirement already satisfied: matplotlib in /usr/local/lib/python3.10/dist-packages (3.8.0)\n",
            "Requirement already satisfied: joblib in /usr/local/lib/python3.10/dist-packages (1.4.2)\n",
            "Requirement already satisfied: altair<6,>=4.0 in /usr/local/lib/python3.10/dist-packages (from streamlit) (4.2.2)\n",
            "Requirement already satisfied: blinker<2,>=1.0.0 in /usr/lib/python3/dist-packages (from streamlit) (1.4)\n",
            "Requirement already satisfied: cachetools<6,>=4.0 in /usr/local/lib/python3.10/dist-packages (from streamlit) (5.5.0)\n",
            "Requirement already satisfied: click<9,>=7.0 in /usr/local/lib/python3.10/dist-packages (from streamlit) (8.1.7)\n",
            "Requirement already satisfied: packaging<25,>=20 in /usr/local/lib/python3.10/dist-packages (from streamlit) (24.1)\n",
            "Requirement already satisfied: pillow<11,>=7.1.0 in /usr/local/lib/python3.10/dist-packages (from streamlit) (10.4.0)\n",
            "Requirement already satisfied: protobuf<6,>=3.20 in /usr/local/lib/python3.10/dist-packages (from streamlit) (3.20.3)\n",
            "Requirement already satisfied: pyarrow>=7.0 in /usr/local/lib/python3.10/dist-packages (from streamlit) (17.0.0)\n",
            "Requirement already satisfied: requests<3,>=2.27 in /usr/local/lib/python3.10/dist-packages (from streamlit) (2.32.3)\n",
            "Requirement already satisfied: rich<14,>=10.14.0 in /usr/local/lib/python3.10/dist-packages (from streamlit) (13.9.3)\n",
            "Requirement already satisfied: tenacity<10,>=8.1.0 in /usr/local/lib/python3.10/dist-packages (from streamlit) (9.0.0)\n",
            "Requirement already satisfied: toml<2,>=0.10.1 in /usr/local/lib/python3.10/dist-packages (from streamlit) (0.10.2)\n",
            "Requirement already satisfied: typing-extensions<5,>=4.3.0 in /usr/local/lib/python3.10/dist-packages (from streamlit) (4.12.2)\n",
            "Requirement already satisfied: gitpython!=3.1.19,<4,>=3.0.7 in /usr/local/lib/python3.10/dist-packages (from streamlit) (3.1.43)\n",
            "Collecting pydeck<1,>=0.8.0b4 (from streamlit)\n",
            "  Downloading pydeck-0.9.1-py2.py3-none-any.whl.metadata (4.1 kB)\n",
            "Requirement already satisfied: tornado<7,>=6.0.3 in /usr/local/lib/python3.10/dist-packages (from streamlit) (6.3.3)\n",
            "Collecting watchdog<6,>=2.1.5 (from streamlit)\n",
            "  Downloading watchdog-5.0.3-py3-none-manylinux2014_x86_64.whl.metadata (41 kB)\n",
            "\u001b[2K     \u001b[90m━━━━━━━━━━━━━━━━━━━━━━━━━━━━━━━━━━━━━━━━\u001b[0m \u001b[32m41.9/41.9 kB\u001b[0m \u001b[31m1.7 MB/s\u001b[0m eta \u001b[36m0:00:00\u001b[0m\n",
            "\u001b[?25hRequirement already satisfied: python-dateutil>=2.8.2 in /usr/local/lib/python3.10/dist-packages (from pandas) (2.8.2)\n",
            "Requirement already satisfied: pytz>=2020.1 in /usr/local/lib/python3.10/dist-packages (from pandas) (2024.2)\n",
            "Requirement already satisfied: tzdata>=2022.7 in /usr/local/lib/python3.10/dist-packages (from pandas) (2024.2)\n",
            "Requirement already satisfied: scipy>=1.6.0 in /usr/local/lib/python3.10/dist-packages (from scikit-learn) (1.13.1)\n",
            "Requirement already satisfied: threadpoolctl>=3.1.0 in /usr/local/lib/python3.10/dist-packages (from scikit-learn) (3.5.0)\n",
            "Requirement already satisfied: nvidia-nccl-cu12 in /usr/local/lib/python3.10/dist-packages (from xgboost) (2.23.4)\n",
            "Requirement already satisfied: contourpy>=1.0.1 in /usr/local/lib/python3.10/dist-packages (from matplotlib) (1.3.0)\n",
            "Requirement already satisfied: cycler>=0.10 in /usr/local/lib/python3.10/dist-packages (from matplotlib) (0.12.1)\n",
            "Requirement already satisfied: fonttools>=4.22.0 in /usr/local/lib/python3.10/dist-packages (from matplotlib) (4.54.1)\n",
            "Requirement already satisfied: kiwisolver>=1.0.1 in /usr/local/lib/python3.10/dist-packages (from matplotlib) (1.4.7)\n",
            "Requirement already satisfied: pyparsing>=2.3.1 in /usr/local/lib/python3.10/dist-packages (from matplotlib) (3.2.0)\n",
            "Requirement already satisfied: entrypoints in /usr/local/lib/python3.10/dist-packages (from altair<6,>=4.0->streamlit) (0.4)\n",
            "Requirement already satisfied: jinja2 in /usr/local/lib/python3.10/dist-packages (from altair<6,>=4.0->streamlit) (3.1.4)\n",
            "Requirement already satisfied: jsonschema>=3.0 in /usr/local/lib/python3.10/dist-packages (from altair<6,>=4.0->streamlit) (4.23.0)\n",
            "Requirement already satisfied: toolz in /usr/local/lib/python3.10/dist-packages (from altair<6,>=4.0->streamlit) (0.12.1)\n",
            "Requirement already satisfied: gitdb<5,>=4.0.1 in /usr/local/lib/python3.10/dist-packages (from gitpython!=3.1.19,<4,>=3.0.7->streamlit) (4.0.11)\n",
            "Requirement already satisfied: six>=1.5 in /usr/local/lib/python3.10/dist-packages (from python-dateutil>=2.8.2->pandas) (1.16.0)\n",
            "Requirement already satisfied: charset-normalizer<4,>=2 in /usr/local/lib/python3.10/dist-packages (from requests<3,>=2.27->streamlit) (3.4.0)\n",
            "Requirement already satisfied: idna<4,>=2.5 in /usr/local/lib/python3.10/dist-packages (from requests<3,>=2.27->streamlit) (3.10)\n",
            "Requirement already satisfied: urllib3<3,>=1.21.1 in /usr/local/lib/python3.10/dist-packages (from requests<3,>=2.27->streamlit) (2.2.3)\n",
            "Requirement already satisfied: certifi>=2017.4.17 in /usr/local/lib/python3.10/dist-packages (from requests<3,>=2.27->streamlit) (2024.8.30)\n",
            "Requirement already satisfied: markdown-it-py>=2.2.0 in /usr/local/lib/python3.10/dist-packages (from rich<14,>=10.14.0->streamlit) (3.0.0)\n",
            "Requirement already satisfied: pygments<3.0.0,>=2.13.0 in /usr/local/lib/python3.10/dist-packages (from rich<14,>=10.14.0->streamlit) (2.18.0)\n",
            "Requirement already satisfied: smmap<6,>=3.0.1 in /usr/local/lib/python3.10/dist-packages (from gitdb<5,>=4.0.1->gitpython!=3.1.19,<4,>=3.0.7->streamlit) (5.0.1)\n",
            "Requirement already satisfied: MarkupSafe>=2.0 in /usr/local/lib/python3.10/dist-packages (from jinja2->altair<6,>=4.0->streamlit) (3.0.2)\n",
            "Requirement already satisfied: attrs>=22.2.0 in /usr/local/lib/python3.10/dist-packages (from jsonschema>=3.0->altair<6,>=4.0->streamlit) (24.2.0)\n",
            "Requirement already satisfied: jsonschema-specifications>=2023.03.6 in /usr/local/lib/python3.10/dist-packages (from jsonschema>=3.0->altair<6,>=4.0->streamlit) (2024.10.1)\n",
            "Requirement already satisfied: referencing>=0.28.4 in /usr/local/lib/python3.10/dist-packages (from jsonschema>=3.0->altair<6,>=4.0->streamlit) (0.35.1)\n",
            "Requirement already satisfied: rpds-py>=0.7.1 in /usr/local/lib/python3.10/dist-packages (from jsonschema>=3.0->altair<6,>=4.0->streamlit) (0.20.0)\n",
            "Requirement already satisfied: mdurl~=0.1 in /usr/local/lib/python3.10/dist-packages (from markdown-it-py>=2.2.0->rich<14,>=10.14.0->streamlit) (0.1.2)\n",
            "Downloading streamlit-1.39.0-py2.py3-none-any.whl (8.7 MB)\n",
            "\u001b[2K   \u001b[90m━━━━━━━━━━━━━━━━━━━━━━━━━━━━━━━━━━━━━━━━\u001b[0m \u001b[32m8.7/8.7 MB\u001b[0m \u001b[31m69.1 MB/s\u001b[0m eta \u001b[36m0:00:00\u001b[0m\n",
            "\u001b[?25hDownloading pydeck-0.9.1-py2.py3-none-any.whl (6.9 MB)\n",
            "\u001b[2K   \u001b[90m━━━━━━━━━━━━━━━━━━━━━━━━━━━━━━━━━━━━━━━━\u001b[0m \u001b[32m6.9/6.9 MB\u001b[0m \u001b[31m116.2 MB/s\u001b[0m eta \u001b[36m0:00:00\u001b[0m\n",
            "\u001b[?25hDownloading watchdog-5.0.3-py3-none-manylinux2014_x86_64.whl (79 kB)\n",
            "\u001b[2K   \u001b[90m━━━━━━━━━━━━━━━━━━━━━━━━━━━━━━━━━━━━━━━━\u001b[0m \u001b[32m79.3/79.3 kB\u001b[0m \u001b[31m8.1 MB/s\u001b[0m eta \u001b[36m0:00:00\u001b[0m\n",
            "\u001b[?25hInstalling collected packages: watchdog, pydeck, streamlit\n",
            "Successfully installed pydeck-0.9.1 streamlit-1.39.0 watchdog-5.0.3\n"
          ]
        }
      ]
    },
    {
      "cell_type": "code",
      "source": [
        "#Instalacion del LocalTunnel\n",
        "!npm install -g localtunnel"
      ],
      "metadata": {
        "colab": {
          "base_uri": "https://localhost:8080/"
        },
        "collapsed": true,
        "id": "CaDfTnMiB9LB",
        "outputId": "ce3010ad-8285-4804-ed7c-8ce612e3e9ae"
      },
      "execution_count": null,
      "outputs": [
        {
          "output_type": "stream",
          "name": "stdout",
          "text": [
            "\u001b[K\u001b[?25h\n",
            "added 22 packages, and audited 23 packages in 2s\n",
            "\n",
            "3 packages are looking for funding\n",
            "  run `npm fund` for details\n",
            "\n",
            "1 \u001b[33m\u001b[1mmoderate\u001b[22m\u001b[39m severity vulnerability\n",
            "\n",
            "To address all issues (including breaking changes), run:\n",
            "  npm audit fix --force\n",
            "\n",
            "Run `npm audit` for details.\n"
          ]
        }
      ]
    },
    {
      "cell_type": "code",
      "source": [
        "#GENERAR KEY (Guardar codigo)\n",
        "!wget -q -O - ipv4.icanhazip.com"
      ],
      "metadata": {
        "colab": {
          "base_uri": "https://localhost:8080/"
        },
        "id": "YIZi-DPnj70o",
        "outputId": "67d77eb2-1c69-496a-92ad-931deb5cc199"
      },
      "execution_count": null,
      "outputs": [
        {
          "output_type": "stream",
          "name": "stdout",
          "text": [
            "34.80.45.71\n"
          ]
        }
      ]
    },
    {
      "cell_type": "code",
      "source": [
        "#GENERAR Y ABRIR PUERTO STREAMLIT\n",
        "! streamlit run app.py & npx localtunnel --port 8501"
      ],
      "metadata": {
        "colab": {
          "base_uri": "https://localhost:8080/"
        },
        "collapsed": true,
        "id": "1sGblxPzDMuU",
        "outputId": "f6cc8d88-6fd7-480d-e9c9-d57c4707bb42"
      },
      "execution_count": null,
      "outputs": [
        {
          "output_type": "stream",
          "name": "stdout",
          "text": [
            "\n",
            "Collecting usage statistics. To deactivate, set browser.gatherUsageStats to false.\n",
            "\u001b[0m\n",
            "\u001b[0m\n",
            "\u001b[34m\u001b[1m  You can now view your Streamlit app in your browser.\u001b[0m\n",
            "\u001b[0m\n",
            "\u001b[34m  Local URL: \u001b[0m\u001b[1mhttp://localhost:8501\u001b[0m\n",
            "\u001b[34m  Network URL: \u001b[0m\u001b[1mhttp://172.28.0.12:8501\u001b[0m\n",
            "\u001b[34m  External URL: \u001b[0m\u001b[1mhttp://34.80.45.71:8501\u001b[0m\n",
            "\u001b[0m\n",
            "your url is: https://pink-swans-allow.loca.lt\n",
            "\u001b[34m  Stopping...\u001b[0m\n",
            "^C\n"
          ]
        }
      ]
    },
    {
      "cell_type": "code",
      "source": [
        "#ENTRENAR SCALER\n",
        "#scaler = StandardScaler()\n",
        "#X_train_scaled = scaler.fit_transform(X_train)\n",
        "#X_test_scaled = scaler.transform(X_test)"
      ],
      "metadata": {
        "id": "QY-nU8NyD8_4"
      },
      "execution_count": null,
      "outputs": []
    },
    {
      "cell_type": "code",
      "source": [
        "#GUARDAR SCALER\n",
        "#joblib.dump(scaler, '/content/drive/MyDrive/scaler.pkl')"
      ],
      "metadata": {
        "colab": {
          "base_uri": "https://localhost:8080/"
        },
        "id": "B09dPRcBZic3",
        "outputId": "688dfef7-8fc6-4193-97dc-e4006efeb070"
      },
      "execution_count": null,
      "outputs": [
        {
          "output_type": "execute_result",
          "data": {
            "text/plain": [
              "['/content/drive/MyDrive/scaler.pkl']"
            ]
          },
          "metadata": {},
          "execution_count": 63
        }
      ]
    }
  ],
  "metadata": {
    "accelerator": "GPU",
    "colab": {
      "gpuType": "T4",
      "machine_shape": "hm",
      "provenance": [],
      "include_colab_link": true
    },
    "kernelspec": {
      "display_name": "Python 3",
      "name": "python3"
    },
    "language_info": {
      "name": "python"
    }
  },
  "nbformat": 4,
  "nbformat_minor": 0
}